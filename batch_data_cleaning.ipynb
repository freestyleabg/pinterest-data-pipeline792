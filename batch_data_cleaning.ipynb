{
 "cells": [
  {
   "cell_type": "code",
   "execution_count": null,
   "metadata": {
    "application/vnd.databricks.v1+cell": {
     "cellMetadata": {
      "byteLimit": 2048000,
      "rowLimit": 10000
     },
     "collapsed": true,
     "inputWidgets": {},
     "nuid": "db8a5928-0b82-4760-a059-e859267ae3e7",
     "showTitle": false,
     "title": ""
    }
   },
   "outputs": [
    {
     "data": {
      "text/html": [
       "<style scoped>\n",
       "  .ansiout {\n",
       "    display: block;\n",
       "    unicode-bidi: embed;\n",
       "    white-space: pre-wrap;\n",
       "    word-wrap: break-word;\n",
       "    word-break: break-all;\n",
       "    font-family: \"Menlo\", \"Monaco\", \"Consolas\", \"Ubuntu Mono\", \"Source Code Pro\", monospace;\n",
       "    font-size: 13px;\n",
       "    color: #555;\n",
       "    margin-left: 4px;\n",
       "    line-height: 19px;\n",
       "  }\n",
       "</style>\n",
       "<div class=\"ansiout\"></div>"
      ]
     },
     "metadata": {
      "application/vnd.databricks.v1+output": {
       "addedWidgets": {},
       "arguments": {},
       "data": "<div class=\"ansiout\"></div>",
       "datasetInfos": [],
       "metadata": {},
       "removedWidgets": [],
       "type": "html"
      }
     },
     "output_type": "display_data"
    }
   ],
   "source": [
    "# pyspark functions\n",
    "from pyspark.sql.functions import *\n",
    "# URL processing\n",
    "import urllib"
   ]
  },
  {
   "cell_type": "markdown",
   "metadata": {
    "application/vnd.databricks.v1+cell": {
     "cellMetadata": {
      "byteLimit": 2048000,
      "rowLimit": 10000
     },
     "collapsed": true,
     "inputWidgets": {},
     "nuid": "f1543902-be23-4955-8dc8-35683eff9b42",
     "showTitle": false,
     "title": ""
    }
   },
   "source": [
    "### Read AWS Credentials"
   ]
  },
  {
   "cell_type": "code",
   "execution_count": null,
   "metadata": {
    "application/vnd.databricks.v1+cell": {
     "cellMetadata": {
      "byteLimit": 2048000,
      "rowLimit": 10000
     },
     "collapsed": true,
     "inputWidgets": {},
     "nuid": "a4621d47-4289-418e-a519-d3abeeae4fa6",
     "showTitle": false,
     "title": ""
    }
   },
   "outputs": [
    {
     "data": {
      "text/html": [
       "<style scoped>\n",
       "  .ansiout {\n",
       "    display: block;\n",
       "    unicode-bidi: embed;\n",
       "    white-space: pre-wrap;\n",
       "    word-wrap: break-word;\n",
       "    word-break: break-all;\n",
       "    font-family: \"Menlo\", \"Monaco\", \"Consolas\", \"Ubuntu Mono\", \"Source Code Pro\", monospace;\n",
       "    font-size: 13px;\n",
       "    color: #555;\n",
       "    margin-left: 4px;\n",
       "    line-height: 19px;\n",
       "  }\n",
       "</style>\n",
       "<div class=\"ansiout\"></div>"
      ]
     },
     "metadata": {
      "application/vnd.databricks.v1+output": {
       "addedWidgets": {},
       "arguments": {},
       "data": "<div class=\"ansiout\"></div>",
       "datasetInfos": [],
       "metadata": {},
       "removedWidgets": [],
       "type": "html"
      }
     },
     "output_type": "display_data"
    }
   ],
   "source": [
    "# Define the path to the Delta table\n",
    "delta_table_path = \"dbfs:/user/hive/warehouse/authentication_credentials\"\n",
    "\n",
    "# Read the Delta table to a Spark DataFrame\n",
    "aws_keys_df = spark.read.format(\"delta\").load(delta_table_path)"
   ]
  },
  {
   "cell_type": "code",
   "execution_count": null,
   "metadata": {
    "application/vnd.databricks.v1+cell": {
     "cellMetadata": {
      "byteLimit": 2048000,
      "rowLimit": 10000
     },
     "collapsed": true,
     "inputWidgets": {},
     "nuid": "1c5d8bff-79ff-47ae-8d36-c4965c19d21c",
     "showTitle": false,
     "title": ""
    }
   },
   "outputs": [
    {
     "data": {
      "text/html": [
       "<style scoped>\n",
       "  .ansiout {\n",
       "    display: block;\n",
       "    unicode-bidi: embed;\n",
       "    white-space: pre-wrap;\n",
       "    word-wrap: break-word;\n",
       "    word-break: break-all;\n",
       "    font-family: \"Menlo\", \"Monaco\", \"Consolas\", \"Ubuntu Mono\", \"Source Code Pro\", monospace;\n",
       "    font-size: 13px;\n",
       "    color: #555;\n",
       "    margin-left: 4px;\n",
       "    line-height: 19px;\n",
       "  }\n",
       "</style>\n",
       "<div class=\"ansiout\"></div>"
      ]
     },
     "metadata": {
      "application/vnd.databricks.v1+output": {
       "addedWidgets": {},
       "arguments": {},
       "data": "<div class=\"ansiout\"></div>",
       "datasetInfos": [],
       "metadata": {},
       "removedWidgets": [],
       "type": "html"
      }
     },
     "output_type": "display_data"
    }
   ],
   "source": [
    "# Get the AWS access key and secret key from the spark dataframe\n",
    "ACCESS_KEY = aws_keys_df.select('Access key ID').collect()[0]['Access key ID']\n",
    "SECRET_KEY = aws_keys_df.select('Secret access key').collect()[0]['Secret access key']\n",
    "# Encode the secrete key\n",
    "ENCODED_SECRET_KEY = urllib.parse.quote(string=SECRET_KEY, safe=\"\")"
   ]
  },
  {
   "cell_type": "code",
   "execution_count": null,
   "metadata": {
    "application/vnd.databricks.v1+cell": {
     "cellMetadata": {
      "byteLimit": 2048000,
      "rowLimit": 10000
     },
     "collapsed": true,
     "inputWidgets": {},
     "nuid": "058134e4-ae24-4bc0-959b-eb135e15e67f",
     "showTitle": false,
     "title": ""
    }
   },
   "outputs": [
    {
     "data": {
      "text/html": [
       "<style scoped>\n",
       "  .ansiout {\n",
       "    display: block;\n",
       "    unicode-bidi: embed;\n",
       "    white-space: pre-wrap;\n",
       "    word-wrap: break-word;\n",
       "    word-break: break-all;\n",
       "    font-family: \"Menlo\", \"Monaco\", \"Consolas\", \"Ubuntu Mono\", \"Source Code Pro\", monospace;\n",
       "    font-size: 13px;\n",
       "    color: #555;\n",
       "    margin-left: 4px;\n",
       "    line-height: 19px;\n",
       "  }\n",
       "</style>\n",
       "<div class=\"ansiout\">/mnt/user-0a5040edb649-bucket already mounted. You can unmount using dbutils.fs.unmount(&#39;/mnt/user-0a5040edb649-bucket&#39;) if needed.\n",
       "</div>"
      ]
     },
     "metadata": {
      "application/vnd.databricks.v1+output": {
       "addedWidgets": {},
       "arguments": {},
       "data": "<div class=\"ansiout\">/mnt/user-0a5040edb649-bucket already mounted. You can unmount using dbutils.fs.unmount(&#39;/mnt/user-0a5040edb649-bucket&#39;) if needed.\n</div>",
       "datasetInfos": [],
       "metadata": {},
       "removedWidgets": [],
       "type": "html"
      }
     },
     "output_type": "display_data"
    }
   ],
   "source": [
    "# AWS S3 bucket name\n",
    "AWS_S3_BUCKET = \"user-0a5040edb649-bucket\"\n",
    "# Mount name for the bucket\n",
    "MOUNT_NAME = \"/mnt/user-0a5040edb649-bucket\"\n",
    "# Source url\n",
    "SOURCE_URL = \"s3n://{0}:{1}@{2}\".format(ACCESS_KEY, ENCODED_SECRET_KEY, AWS_S3_BUCKET)\n",
    "# Mount the drive\n",
    "try:\n",
    "    dbutils.fs.mount(SOURCE_URL, MOUNT_NAME)\n",
    "    print(f\"Successfully mounted {SOURCE_URL} to {MOUNT_NAME}.\")\n",
    "except Exception as e:\n",
    "    if \"already mounted\" in str(e):\n",
    "        print(f\"{MOUNT_NAME} already mounted. You can unmount using dbutils.fs.unmount('{MOUNT_NAME}') if needed.\")\n",
    "    else:\n",
    "        print(f\"Error mounting {SOURCE_URL} to {MOUNT_NAME}: {e}\")\n"
   ]
  },
  {
   "cell_type": "markdown",
   "metadata": {
    "application/vnd.databricks.v1+cell": {
     "cellMetadata": {
      "byteLimit": 2048000,
      "rowLimit": 10000
     },
     "inputWidgets": {},
     "nuid": "22c860c7-e5c9-4a19-b910-812fcd7e4946",
     "showTitle": false,
     "title": ""
    }
   },
   "source": [
    "### Read data from S3 bucket into dataframe"
   ]
  },
  {
   "cell_type": "code",
   "execution_count": null,
   "metadata": {
    "application/vnd.databricks.v1+cell": {
     "cellMetadata": {
      "byteLimit": 2048000,
      "rowLimit": 10000
     },
     "collapsed": true,
     "inputWidgets": {},
     "nuid": "a7c7f603-a0ae-4d1a-9691-76913331ad05",
     "showTitle": false,
     "title": ""
    }
   },
   "outputs": [
    {
     "data": {
      "text/html": [
       "<style scoped>\n",
       "  .ansiout {\n",
       "    display: block;\n",
       "    unicode-bidi: embed;\n",
       "    white-space: pre-wrap;\n",
       "    word-wrap: break-word;\n",
       "    word-break: break-all;\n",
       "    font-family: \"Menlo\", \"Monaco\", \"Consolas\", \"Ubuntu Mono\", \"Source Code Pro\", monospace;\n",
       "    font-size: 13px;\n",
       "    color: #555;\n",
       "    margin-left: 4px;\n",
       "    line-height: 19px;\n",
       "  }\n",
       "</style>\n",
       "<div class=\"ansiout\">Out[362]: [FileInfo(path=&#39;dbfs:/mnt/user-0a5040edb649-bucket/topics/0a5040edb649.geo/&#39;, name=&#39;0a5040edb649.geo/&#39;, size=0, modificationTime=1711585975218),\n",
       " FileInfo(path=&#39;dbfs:/mnt/user-0a5040edb649-bucket/topics/0a5040edb649.pin/&#39;, name=&#39;0a5040edb649.pin/&#39;, size=0, modificationTime=1711585975218),\n",
       " FileInfo(path=&#39;dbfs:/mnt/user-0a5040edb649-bucket/topics/0a5040edb649.user/&#39;, name=&#39;0a5040edb649.user/&#39;, size=0, modificationTime=1711585975218)]</div>"
      ]
     },
     "metadata": {
      "application/vnd.databricks.v1+output": {
       "addedWidgets": {},
       "arguments": {},
       "data": "<div class=\"ansiout\">Out[362]: [FileInfo(path=&#39;dbfs:/mnt/user-0a5040edb649-bucket/topics/0a5040edb649.geo/&#39;, name=&#39;0a5040edb649.geo/&#39;, size=0, modificationTime=1711585975218),\n FileInfo(path=&#39;dbfs:/mnt/user-0a5040edb649-bucket/topics/0a5040edb649.pin/&#39;, name=&#39;0a5040edb649.pin/&#39;, size=0, modificationTime=1711585975218),\n FileInfo(path=&#39;dbfs:/mnt/user-0a5040edb649-bucket/topics/0a5040edb649.user/&#39;, name=&#39;0a5040edb649.user/&#39;, size=0, modificationTime=1711585975218)]</div>",
       "datasetInfos": [],
       "metadata": {},
       "removedWidgets": [],
       "type": "html"
      }
     },
     "output_type": "display_data"
    }
   ],
   "source": [
    "dbutils.fs.ls(\"mnt/user-0a5040edb649-bucket/topics\")"
   ]
  },
  {
   "cell_type": "code",
   "execution_count": null,
   "metadata": {
    "application/vnd.databricks.v1+cell": {
     "cellMetadata": {
      "byteLimit": 2048000,
      "implicitDf": true,
      "rowLimit": 10000
     },
     "collapsed": true,
     "inputWidgets": {},
     "nuid": "99517971-77b2-4305-a286-935d05c9dcdc",
     "showTitle": false,
     "title": ""
    },
    "jupyter": {
     "outputs_hidden": true
    }
   },
   "outputs": [
    {
     "data": {
      "text/html": [
       "<style scoped>\n",
       "  .table-result-container {\n",
       "    max-height: 300px;\n",
       "    overflow: auto;\n",
       "  }\n",
       "  table, th, td {\n",
       "    border: 1px solid black;\n",
       "    border-collapse: collapse;\n",
       "  }\n",
       "  th, td {\n",
       "    padding: 5px;\n",
       "  }\n",
       "  th {\n",
       "    text-align: left;\n",
       "  }\n",
       "</style><div class='table-result-container'><table class='table-result'><thead style='background-color: white'><tr><th>key</th><th>value</th></tr></thead><tbody><tr><td>spark.databricks.delta.formatCheck.enabled</td><td>false</td></tr></tbody></table></div>"
      ]
     },
     "metadata": {
      "application/vnd.databricks.v1+output": {
       "addedWidgets": {},
       "aggData": [],
       "aggError": "",
       "aggOverflow": false,
       "aggSchema": [],
       "aggSeriesLimitReached": false,
       "aggType": "",
       "arguments": {},
       "columnCustomDisplayInfos": {},
       "data": [
        [
         "spark.databricks.delta.formatCheck.enabled",
         "false"
        ]
       ],
       "datasetInfos": [],
       "dbfsResultPath": null,
       "isJsonSchema": true,
       "metadata": {},
       "overflow": false,
       "plotOptions": {
        "customPlotOptions": {},
        "displayType": "table",
        "pivotAggregation": null,
        "pivotColumns": null,
        "xColumns": null,
        "yColumns": null
       },
       "removedWidgets": [],
       "schema": [
        {
         "metadata": "{}",
         "name": "key",
         "type": "\"string\""
        },
        {
         "metadata": "{}",
         "name": "value",
         "type": "\"string\""
        }
       ],
       "type": "table"
      }
     },
     "output_type": "display_data"
    }
   ],
   "source": [
    "%sql\n",
    "-- Disable format checks during the reading of Delta tables \n",
    "SET spark.databricks.delta.formatCheck.enabled=false"
   ]
  },
  {
   "cell_type": "code",
   "execution_count": null,
   "metadata": {
    "application/vnd.databricks.v1+cell": {
     "cellMetadata": {
      "byteLimit": 2048000,
      "rowLimit": 10000
     },
     "collapsed": true,
     "inputWidgets": {},
     "nuid": "22faa598-225d-42d6-bd0f-11bcbdafcdfd",
     "showTitle": false,
     "title": ""
    }
   },
   "outputs": [
    {
     "data": {
      "text/html": [
       "<style scoped>\n",
       "  .ansiout {\n",
       "    display: block;\n",
       "    unicode-bidi: embed;\n",
       "    white-space: pre-wrap;\n",
       "    word-wrap: break-word;\n",
       "    word-break: break-all;\n",
       "    font-family: \"Menlo\", \"Monaco\", \"Consolas\", \"Ubuntu Mono\", \"Source Code Pro\", monospace;\n",
       "    font-size: 13px;\n",
       "    color: #555;\n",
       "    margin-left: 4px;\n",
       "    line-height: 19px;\n",
       "  }\n",
       "</style>\n",
       "<div class=\"ansiout\">+--------------+--------------------+----------+--------------+--------------------+-----+-----------------+--------------------+--------------------+--------------------+--------------------+--------------------+\n",
       "      category|         description|downloaded|follower_count|           image_src|index|is_image_or_video|         poster_name|       save_location|            tag_list|               title|           unique_id|\n",
       "+--------------+--------------------+----------+--------------+--------------------+-----+-----------------+--------------------+--------------------+--------------------+--------------------+--------------------+\n",
       "     christmas|Christmas decorat...|         1|           46k|https://i.pinimg....| 2482|            video|Life on Summerhil...|Local save in /da...|Diy Christmas Dec...|FORNT PORCH CHRIS...|08604f20-fa17-4b9...|\n",
       "        travel|This Costa Rica i...|         1|           10k|https://i.pinimg....|10138|            image|Wanderlust Chloe ...|Local save in /da...|Costa Rica Travel...|14 Amazing Things...|927c4658-cc3f-4b9...|\n",
       "        travel|This Costa Rica i...|         1|           10k|https://i.pinimg....|10138|            image|Wanderlust Chloe ...|Local save in /da...|Costa Rica Travel...|14 Amazing Things...|927c4658-cc3f-4b9...|\n",
       "     christmas|My favorite 75+ N...|         1|           31k|https://i.pinimg....| 2604|            image|  Everyday Wholesome|Local save in /da...|Colorful Christma...|75+ Neutral Chris...|087b0fa9-f901-426...|\n",
       "diy-and-crafts|This post may con...|         1|          892k|https://i.pinimg....| 3156|            image|Michelle {CraftyM...|Local save in /da...|Christmas Gifts F...|Handprint Reindee...|fa6e31a4-18c2-4ec...|\n",
       "diy-and-crafts|This post may con...|         1|          892k|https://i.pinimg....| 3156|            image|Michelle {CraftyM...|Local save in /da...|Christmas Gifts F...|Handprint Reindee...|fa6e31a4-18c2-4ec...|\n",
       "        travel|See families trav...|         1|            9k|https://i.pinimg....|10119|            image|OUR NEXT ADVENTUR...|Local save in /da...|Family Vacation D...|How to Afford Fam...|40eab9ba-7812-4f2...|\n",
       "diy-and-crafts|Easy Christmas tr...|         1|            3k|https://i.pinimg....| 3419|            image|Kids Crafts &amp; Fre...|Local save in /da...|Christmas Crafts ...|Easy Christmas Tr...|d0b80187-0171-49b...|\n",
       "       tattoos|&#34;Minimalist Tatto...|         1|           54k|https://i.pinimg....| 9093|            image|Beautyholo | Late...|Local save in /da...|Small Tattoos Men...|51 Unique Minimal...|8e478adb-0e3f-404...|\n",
       "       finance|If you love budge...|         1|           26k|https://i.pinimg....| 5494|            image|Living Low Key | ...|Local save in /da...|Financial Peace,F...|Dave Ramsey&#39;s 7 B...|8fb2af68-543b-463...|\n",
       "       finance|If you love budge...|         1|           26k|https://i.pinimg....| 5494|            image|Living Low Key | ...|Local save in /da...|Financial Peace,F...|Dave Ramsey&#39;s 7 B...|8fb2af68-543b-463...|\n",
       "       finance|If you love budge...|         1|           26k|https://i.pinimg....| 5494|            image|Living Low Key | ...|Local save in /da...|Financial Peace,F...|Dave Ramsey&#39;s 7 B...|8fb2af68-543b-463...|\n",
       "diy-and-crafts|Celebrate warmer ...|         1|          108k|https://i.pinimg....| 2858|            image|This Tiny  Blue H...|Local save in /da...|Spring Crafts For...|50 Popular Spring...|26f81da4-26a9-465...|\n",
       "     christmas|Here are the best...|         1|          500k|https://i.pinimg....| 2418|            image|            HikenDip|Local save in /da...|Farmhouse Christm...|100 DIY Christmas...|da8745a6-5160-46c...|\n",
       "     christmas|Here are the best...|         1|          500k|https://i.pinimg....| 2418|            image|            HikenDip|Local save in /da...|Farmhouse Christm...|100 DIY Christmas...|da8745a6-5160-46c...|\n",
       "        quotes|Trying to create ...|         1|           42k|https://i.pinimg....| 8312|            image|TheFab20s | Trave...|Local save in /da...|Positive Self Aff...|8 Vision Board Id...|ca3c9bb0-7281-4b9...|\n",
       "        quotes|summcoco gives yo...|         1|          306k|https://i.pinimg....| 7922|            image|Sumcoco | Decor I...|Local save in /da...|Life Quotes Love,...|45 Top Life Quote...|a584581c-1b38-473...|\n",
       "        quotes|summcoco gives yo...|         1|          306k|https://i.pinimg....| 7922|            image|Sumcoco | Decor I...|Local save in /da...|Life Quotes Love,...|45 Top Life Quote...|a584581c-1b38-473...|\n",
       "           art|Use your mini wor...|         1|            4k|https://i.pinimg....|  771|            image|Taming Little Mon...|Local save in /da...|African Art Proje...|African Sunset Sh...|a5021766-a8aa-4dc...|\n",
       "event-planning|Personalize your ...|         1|           111|https://i.pinimg....| 4508|            image|Life of Neon | Cu...|Local save in /da...|Our Wedding,Weddi...|Custom Event and ...|9064f4a2-2753-476...|\n",
       "+--------------+--------------------+----------+--------------+--------------------+-----+-----------------+--------------------+--------------------+--------------------+--------------------+--------------------+\n",
       "only showing top 20 rows\n",
       "\n",
       "+--------------------+-----+---------+---------+-------------------+\n",
       "             country|  ind| latitude|longitude|          timestamp|\n",
       "+--------------------+-----+---------+---------+-------------------+\n",
       "Antarctica (the t...| 2418| -88.4642| -171.061|2022-05-27T11:30:59|\n",
       "Cocos (Keeling) I...|10794| -89.5236| -154.567|2022-01-01T02:26:50|\n",
       "Central African R...| 2074| -52.3213|   -50.11|2019-11-03T05:41:59|\n",
       " Antigua and Barbuda| 7922| -88.0974| -172.052|2021-01-27T09:14:19|\n",
       "  Dominican Republic| 9979|  14.9967| -120.682|2018-07-18T19:01:46|\n",
       "       Cote d&#39;Ivoire| 2923| -84.6302| -164.507|2019-09-08T22:53:09|\n",
       "       French Guiana| 8304| -28.8852|  -164.87|2019-09-13T04:50:29|\n",
       "       Cote d&#39;Ivoire| 4315| -45.8508|  66.1003|2019-12-15T03:51:28|\n",
       "          Azerbaijan| 5069| -63.0063| -157.474|2021-03-20T09:32:44|\n",
       "          Mozambique| 6145| -65.9079| -143.845|2019-12-05T02:09:44|\n",
       "          Bangladesh|  428| -83.4105| -150.788|2020-09-27T18:46:41|\n",
       "           Australia| 7343| -65.4428| -161.684|2018-08-06T12:17:07|\n",
       "          Seychelles| 8653|  48.4569| -139.658|2022-04-11T18:30:19|\n",
       "            Bulgaria| 5494| -82.6768| -129.202|2021-07-21T02:02:35|\n",
       "            Anguilla| 6063| -89.1797| -174.015|2021-07-20T09:02:47|\n",
       "            Cambodia| 3454|-0.375174|  49.8106|2021-07-25T02:20:29|\n",
       "             Jamaica|10625| -84.4944| -81.0613|2018-07-13T11:51:15|\n",
       "            Barbados| 9875| -74.3382| -110.484|2020-03-20T13:03:18|\n",
       "            Botswana| 8887| -28.0137| -160.708|2021-09-19T05:27:43|\n",
       "             Albania| 7528| -89.9787| -173.293|2020-08-28T03:52:47|\n",
       "+--------------------+-----+---------+---------+-------------------+\n",
       "only showing top 20 rows\n",
       "\n",
       "+---+-------------------+----------+-----+---------+\n",
       "age|        date_joined|first_name|  ind|last_name|\n",
       "+---+-------------------+----------+-----+---------+\n",
       " 21|2015-11-10T09:27:42|    Andrea| 8731|Alexander|\n",
       " 24|2016-03-31T20:56:39|    Austin| 8887|Rodriguez|\n",
       " 36|2015-12-20T16:38:13|  Michelle| 4315|   Prince|\n",
       " 32|2017-10-10T20:09:33| Christian|10625|     Lang|\n",
       " 22|2016-02-11T20:46:04|  Jennifer| 9672|   Hudson|\n",
       " 32|2016-04-02T03:51:23|  Brittany| 1313|    Jones|\n",
       " 34|2016-12-22T00:02:02|    Thomas|10794|   Turner|\n",
       " 20|2016-01-07T19:49:22|     David| 2959| Griffith|\n",
       " 26|2015-12-20T10:28:00|   Brendan| 9875|   Joseph|\n",
       " 21|2016-01-03T15:42:12|   Annette| 2074|   Forbes|\n",
       " 56|2016-10-15T17:21:39|   Gregory| 1014|   Ramsey|\n",
       " 25|2015-12-28T04:21:39|   Charles| 8304|    Berry|\n",
       " 23|2015-11-25T13:36:22|     Corey| 6063|  Andrews|\n",
       " 48|2017-09-26T16:31:56|    Robert| 3454|   Murphy|\n",
       " 20|2017-04-11T16:35:33|    Cheryl| 7554|   Huerta|\n",
       " 30|2015-12-25T20:24:37|     Emily| 6145|  Hawkins|\n",
       " 31|2016-11-09T19:50:51|    Kaylee| 9979|   Miller|\n",
       " 24|2015-11-20T05:37:11|    Angela| 4913|   Brooks|\n",
       " 32|2016-10-23T14:06:51|     Dylan| 2863|   Holmes|\n",
       " 36|2015-12-08T20:02:43|    Rachel| 5730|    Davis|\n",
       "+---+-------------------+----------+-----+---------+\n",
       "only showing top 20 rows\n",
       "\n",
       "</div>"
      ]
     },
     "metadata": {
      "application/vnd.databricks.v1+output": {
       "addedWidgets": {},
       "arguments": {},
       "data": "<div class=\"ansiout\">+--------------+--------------------+----------+--------------+--------------------+-----+-----------------+--------------------+--------------------+--------------------+--------------------+--------------------+\n|      category|         description|downloaded|follower_count|           image_src|index|is_image_or_video|         poster_name|       save_location|            tag_list|               title|           unique_id|\n+--------------+--------------------+----------+--------------+--------------------+-----+-----------------+--------------------+--------------------+--------------------+--------------------+--------------------+\n|     christmas|Christmas decorat...|         1|           46k|https://i.pinimg....| 2482|            video|Life on Summerhil...|Local save in /da...|Diy Christmas Dec...|FORNT PORCH CHRIS...|08604f20-fa17-4b9...|\n|        travel|This Costa Rica i...|         1|           10k|https://i.pinimg....|10138|            image|Wanderlust Chloe ...|Local save in /da...|Costa Rica Travel...|14 Amazing Things...|927c4658-cc3f-4b9...|\n|        travel|This Costa Rica i...|         1|           10k|https://i.pinimg....|10138|            image|Wanderlust Chloe ...|Local save in /da...|Costa Rica Travel...|14 Amazing Things...|927c4658-cc3f-4b9...|\n|     christmas|My favorite 75+ N...|         1|           31k|https://i.pinimg....| 2604|            image|  Everyday Wholesome|Local save in /da...|Colorful Christma...|75+ Neutral Chris...|087b0fa9-f901-426...|\n|diy-and-crafts|This post may con...|         1|          892k|https://i.pinimg....| 3156|            image|Michelle {CraftyM...|Local save in /da...|Christmas Gifts F...|Handprint Reindee...|fa6e31a4-18c2-4ec...|\n|diy-and-crafts|This post may con...|         1|          892k|https://i.pinimg....| 3156|            image|Michelle {CraftyM...|Local save in /da...|Christmas Gifts F...|Handprint Reindee...|fa6e31a4-18c2-4ec...|\n|        travel|See families trav...|         1|            9k|https://i.pinimg....|10119|            image|OUR NEXT ADVENTUR...|Local save in /da...|Family Vacation D...|How to Afford Fam...|40eab9ba-7812-4f2...|\n|diy-and-crafts|Easy Christmas tr...|         1|            3k|https://i.pinimg....| 3419|            image|Kids Crafts &amp; Fre...|Local save in /da...|Christmas Crafts ...|Easy Christmas Tr...|d0b80187-0171-49b...|\n|       tattoos|&#34;Minimalist Tatto...|         1|           54k|https://i.pinimg....| 9093|            image|Beautyholo | Late...|Local save in /da...|Small Tattoos Men...|51 Unique Minimal...|8e478adb-0e3f-404...|\n|       finance|If you love budge...|         1|           26k|https://i.pinimg....| 5494|            image|Living Low Key | ...|Local save in /da...|Financial Peace,F...|Dave Ramsey&#39;s 7 B...|8fb2af68-543b-463...|\n|       finance|If you love budge...|         1|           26k|https://i.pinimg....| 5494|            image|Living Low Key | ...|Local save in /da...|Financial Peace,F...|Dave Ramsey&#39;s 7 B...|8fb2af68-543b-463...|\n|       finance|If you love budge...|         1|           26k|https://i.pinimg....| 5494|            image|Living Low Key | ...|Local save in /da...|Financial Peace,F...|Dave Ramsey&#39;s 7 B...|8fb2af68-543b-463...|\n|diy-and-crafts|Celebrate warmer ...|         1|          108k|https://i.pinimg....| 2858|            image|This Tiny  Blue H...|Local save in /da...|Spring Crafts For...|50 Popular Spring...|26f81da4-26a9-465...|\n|     christmas|Here are the best...|         1|          500k|https://i.pinimg....| 2418|            image|            HikenDip|Local save in /da...|Farmhouse Christm...|100 DIY Christmas...|da8745a6-5160-46c...|\n|     christmas|Here are the best...|         1|          500k|https://i.pinimg....| 2418|            image|            HikenDip|Local save in /da...|Farmhouse Christm...|100 DIY Christmas...|da8745a6-5160-46c...|\n|        quotes|Trying to create ...|         1|           42k|https://i.pinimg....| 8312|            image|TheFab20s | Trave...|Local save in /da...|Positive Self Aff...|8 Vision Board Id...|ca3c9bb0-7281-4b9...|\n|        quotes|summcoco gives yo...|         1|          306k|https://i.pinimg....| 7922|            image|Sumcoco | Decor I...|Local save in /da...|Life Quotes Love,...|45 Top Life Quote...|a584581c-1b38-473...|\n|        quotes|summcoco gives yo...|         1|          306k|https://i.pinimg....| 7922|            image|Sumcoco | Decor I...|Local save in /da...|Life Quotes Love,...|45 Top Life Quote...|a584581c-1b38-473...|\n|           art|Use your mini wor...|         1|            4k|https://i.pinimg....|  771|            image|Taming Little Mon...|Local save in /da...|African Art Proje...|African Sunset Sh...|a5021766-a8aa-4dc...|\n|event-planning|Personalize your ...|         1|           111|https://i.pinimg....| 4508|            image|Life of Neon | Cu...|Local save in /da...|Our Wedding,Weddi...|Custom Event and ...|9064f4a2-2753-476...|\n+--------------+--------------------+----------+--------------+--------------------+-----+-----------------+--------------------+--------------------+--------------------+--------------------+--------------------+\nonly showing top 20 rows\n\n+--------------------+-----+---------+---------+-------------------+\n|             country|  ind| latitude|longitude|          timestamp|\n+--------------------+-----+---------+---------+-------------------+\n|Antarctica (the t...| 2418| -88.4642| -171.061|2022-05-27T11:30:59|\n|Cocos (Keeling) I...|10794| -89.5236| -154.567|2022-01-01T02:26:50|\n|Central African R...| 2074| -52.3213|   -50.11|2019-11-03T05:41:59|\n| Antigua and Barbuda| 7922| -88.0974| -172.052|2021-01-27T09:14:19|\n|  Dominican Republic| 9979|  14.9967| -120.682|2018-07-18T19:01:46|\n|       Cote d&#39;Ivoire| 2923| -84.6302| -164.507|2019-09-08T22:53:09|\n|       French Guiana| 8304| -28.8852|  -164.87|2019-09-13T04:50:29|\n|       Cote d&#39;Ivoire| 4315| -45.8508|  66.1003|2019-12-15T03:51:28|\n|          Azerbaijan| 5069| -63.0063| -157.474|2021-03-20T09:32:44|\n|          Mozambique| 6145| -65.9079| -143.845|2019-12-05T02:09:44|\n|          Bangladesh|  428| -83.4105| -150.788|2020-09-27T18:46:41|\n|           Australia| 7343| -65.4428| -161.684|2018-08-06T12:17:07|\n|          Seychelles| 8653|  48.4569| -139.658|2022-04-11T18:30:19|\n|            Bulgaria| 5494| -82.6768| -129.202|2021-07-21T02:02:35|\n|            Anguilla| 6063| -89.1797| -174.015|2021-07-20T09:02:47|\n|            Cambodia| 3454|-0.375174|  49.8106|2021-07-25T02:20:29|\n|             Jamaica|10625| -84.4944| -81.0613|2018-07-13T11:51:15|\n|            Barbados| 9875| -74.3382| -110.484|2020-03-20T13:03:18|\n|            Botswana| 8887| -28.0137| -160.708|2021-09-19T05:27:43|\n|             Albania| 7528| -89.9787| -173.293|2020-08-28T03:52:47|\n+--------------------+-----+---------+---------+-------------------+\nonly showing top 20 rows\n\n+---+-------------------+----------+-----+---------+\n|age|        date_joined|first_name|  ind|last_name|\n+---+-------------------+----------+-----+---------+\n| 21|2015-11-10T09:27:42|    Andrea| 8731|Alexander|\n| 24|2016-03-31T20:56:39|    Austin| 8887|Rodriguez|\n| 36|2015-12-20T16:38:13|  Michelle| 4315|   Prince|\n| 32|2017-10-10T20:09:33| Christian|10625|     Lang|\n| 22|2016-02-11T20:46:04|  Jennifer| 9672|   Hudson|\n| 32|2016-04-02T03:51:23|  Brittany| 1313|    Jones|\n| 34|2016-12-22T00:02:02|    Thomas|10794|   Turner|\n| 20|2016-01-07T19:49:22|     David| 2959| Griffith|\n| 26|2015-12-20T10:28:00|   Brendan| 9875|   Joseph|\n| 21|2016-01-03T15:42:12|   Annette| 2074|   Forbes|\n| 56|2016-10-15T17:21:39|   Gregory| 1014|   Ramsey|\n| 25|2015-12-28T04:21:39|   Charles| 8304|    Berry|\n| 23|2015-11-25T13:36:22|     Corey| 6063|  Andrews|\n| 48|2017-09-26T16:31:56|    Robert| 3454|   Murphy|\n| 20|2017-04-11T16:35:33|    Cheryl| 7554|   Huerta|\n| 30|2015-12-25T20:24:37|     Emily| 6145|  Hawkins|\n| 31|2016-11-09T19:50:51|    Kaylee| 9979|   Miller|\n| 24|2015-11-20T05:37:11|    Angela| 4913|   Brooks|\n| 32|2016-10-23T14:06:51|     Dylan| 2863|   Holmes|\n| 36|2015-12-08T20:02:43|    Rachel| 5730|    Davis|\n+---+-------------------+----------+-----+---------+\nonly showing top 20 rows\n\n</div>",
       "datasetInfos": [],
       "metadata": {},
       "removedWidgets": [],
       "type": "html"
      }
     },
     "output_type": "display_data"
    }
   ],
   "source": [
    "topics = [\".pin\", \".geo\", \".user\"]\n",
    "\n",
    "def load_topics_into_dataframe(topic):\n",
    "    # File path for topic files\n",
    "    file_path = f\"/mnt/user-0a5040edb649-bucket/topics/0a5040edb649{topic}/partition=0/*.json\"\n",
    "    file_type = \"json\"\n",
    "    \n",
    "    # Ask Spark to infer the schema\n",
    "    infer_schema = \"true\"\n",
    "    \n",
    "    # Read JSONs from mounted S3 bucket into Spark DataFrame\n",
    "    df = spark.read.format(file_type) \\\n",
    "        .option(\"inferSchema\", infer_schema) \\\n",
    "        .load(file_path)\n",
    "    return df\n",
    "\n",
    "# Iterate over topics and create DataFrames for each topic\n",
    "for suffix in topics:\n",
    "    # Create DataFrame for each topic\n",
    "    create_df = f\"df_{suffix[1:]} = load_topics_into_dataframe('{suffix}')\"\n",
    "    exec(create_df)\n",
    "    # Show DataFrame for each topic\n",
    "    show_df = f\"df_{suffix[1:]}.show()\"\n",
    "    exec(show_df)"
   ]
  },
  {
   "cell_type": "markdown",
   "metadata": {
    "application/vnd.databricks.v1+cell": {
     "cellMetadata": {
      "byteLimit": 2048000,
      "rowLimit": 10000
     },
     "inputWidgets": {},
     "nuid": "d718d76d-31ac-4ee9-8754-d00f2ca320ad",
     "showTitle": false,
     "title": ""
    }
   },
   "source": [
    "### Clean Pinterest posts datafram\n"
   ]
  },
  {
   "cell_type": "code",
   "execution_count": null,
   "metadata": {
    "application/vnd.databricks.v1+cell": {
     "cellMetadata": {
      "byteLimit": 2048000,
      "rowLimit": 10000
     },
     "collapsed": true,
     "inputWidgets": {},
     "nuid": "9cbeed6c-53ca-4fdd-8ba1-fa39fff3c888",
     "showTitle": false,
     "title": ""
    }
   },
   "outputs": [
    {
     "data": {
      "text/html": [
       "<style scoped>\n",
       "  .ansiout {\n",
       "    display: block;\n",
       "    unicode-bidi: embed;\n",
       "    white-space: pre-wrap;\n",
       "    word-wrap: break-word;\n",
       "    word-break: break-all;\n",
       "    font-family: \"Menlo\", \"Monaco\", \"Consolas\", \"Ubuntu Mono\", \"Source Code Pro\", monospace;\n",
       "    font-size: 13px;\n",
       "    color: #555;\n",
       "    margin-left: 4px;\n",
       "    line-height: 19px;\n",
       "  }\n",
       "</style>\n",
       "<div class=\"ansiout\">+-----+--------------------+--------------------+--------------------+--------------+--------------------+--------------------+-----------------+--------------------+--------------------+--------------+\n",
       "  ind|           unique_id|               title|         description|follower_count|         poster_name|            tag_list|is_image_or_video|           image_src|       save_location|      category|\n",
       "+-----+--------------------+--------------------+--------------------+--------------+--------------------+--------------------+-----------------+--------------------+--------------------+--------------+\n",
       " 2482|08604f20-fa17-4b9...|FORNT PORCH CHRIS...|Christmas decorat...|         46000|Life on Summerhil...|Diy Christmas Dec...|            video|https://i.pinimg....|     /data/christmas|     christmas|\n",
       "10138|927c4658-cc3f-4b9...|14 Amazing Things...|This Costa Rica i...|         10000|Wanderlust Chloe ...|Costa Rica Travel...|            image|https://i.pinimg....|        /data/travel|        travel|\n",
       "10138|927c4658-cc3f-4b9...|14 Amazing Things...|This Costa Rica i...|         10000|Wanderlust Chloe ...|Costa Rica Travel...|            image|https://i.pinimg....|        /data/travel|        travel|\n",
       " 2604|087b0fa9-f901-426...|75+ Neutral Chris...|My favorite 75+ N...|         31000|  Everyday Wholesome|Colorful Christma...|            image|https://i.pinimg....|     /data/christmas|     christmas|\n",
       " 3156|fa6e31a4-18c2-4ec...|Handprint Reindee...|This post may con...|        892000|Michelle {CraftyM...|Christmas Gifts F...|            image|https://i.pinimg....|/data/diy-and-crafts|diy-and-crafts|\n",
       " 3156|fa6e31a4-18c2-4ec...|Handprint Reindee...|This post may con...|        892000|Michelle {CraftyM...|Christmas Gifts F...|            image|https://i.pinimg....|/data/diy-and-crafts|diy-and-crafts|\n",
       "10119|40eab9ba-7812-4f2...|How to Afford Fam...|See families trav...|          9000|OUR NEXT ADVENTUR...|Family Vacation D...|            image|https://i.pinimg....|        /data/travel|        travel|\n",
       " 3419|d0b80187-0171-49b...|Easy Christmas Tr...|Easy Christmas tr...|          3000|Kids Crafts &amp; Fre...|Christmas Crafts ...|            image|https://i.pinimg....|/data/diy-and-crafts|diy-and-crafts|\n",
       " 9093|8e478adb-0e3f-404...|51 Unique Minimal...|&#34;Minimalist Tatto...|         54000|Beautyholo | Late...|Small Tattoos Men...|            image|https://i.pinimg....|       /data/tattoos|       tattoos|\n",
       " 5494|8fb2af68-543b-463...|Dave Ramsey&#39;s 7 B...|If you love budge...|         26000|Living Low Key | ...|Financial Peace,F...|            image|https://i.pinimg....|       /data/finance|       finance|\n",
       " 5494|8fb2af68-543b-463...|Dave Ramsey&#39;s 7 B...|If you love budge...|         26000|Living Low Key | ...|Financial Peace,F...|            image|https://i.pinimg....|       /data/finance|       finance|\n",
       " 5494|8fb2af68-543b-463...|Dave Ramsey&#39;s 7 B...|If you love budge...|         26000|Living Low Key | ...|Financial Peace,F...|            image|https://i.pinimg....|       /data/finance|       finance|\n",
       " 2858|26f81da4-26a9-465...|50 Popular Spring...|Celebrate warmer ...|        108000|This Tiny  Blue H...|Spring Crafts For...|            image|https://i.pinimg....|/data/diy-and-crafts|diy-and-crafts|\n",
       " 2418|da8745a6-5160-46c...|100 DIY Christmas...|Here are the best...|        500000|            HikenDip|Farmhouse Christm...|            image|https://i.pinimg....|     /data/christmas|     christmas|\n",
       " 2418|da8745a6-5160-46c...|100 DIY Christmas...|Here are the best...|        500000|            HikenDip|Farmhouse Christm...|            image|https://i.pinimg....|     /data/christmas|     christmas|\n",
       " 8312|ca3c9bb0-7281-4b9...|8 Vision Board Id...|Trying to create ...|         42000|TheFab20s | Trave...|Positive Self Aff...|            image|https://i.pinimg....|        /data/quotes|        quotes|\n",
       " 7922|a584581c-1b38-473...|45 Top Life Quote...|summcoco gives yo...|        306000|Sumcoco | Decor I...|Life Quotes Love,...|            image|https://i.pinimg....|        /data/quotes|        quotes|\n",
       " 7922|a584581c-1b38-473...|45 Top Life Quote...|summcoco gives yo...|        306000|Sumcoco | Decor I...|Life Quotes Love,...|            image|https://i.pinimg....|        /data/quotes|        quotes|\n",
       "  771|a5021766-a8aa-4dc...|African Sunset Sh...|Use your mini wor...|          4000|Taming Little Mon...|African Art Proje...|            image|https://i.pinimg....|           /data/art|           art|\n",
       " 4508|9064f4a2-2753-476...|Custom Event and ...|Personalize your ...|           111|Life of Neon | Cu...|Our Wedding,Weddi...|            image|https://i.pinimg....|/data/event-planning|event-planning|\n",
       "+-----+--------------------+--------------------+--------------------+--------------+--------------------+--------------------+-----------------+--------------------+--------------------+--------------+\n",
       "only showing top 20 rows\n",
       "\n",
       "</div>"
      ]
     },
     "metadata": {
      "application/vnd.databricks.v1+output": {
       "addedWidgets": {},
       "arguments": {},
       "data": "<div class=\"ansiout\">+-----+--------------------+--------------------+--------------------+--------------+--------------------+--------------------+-----------------+--------------------+--------------------+--------------+\n|  ind|           unique_id|               title|         description|follower_count|         poster_name|            tag_list|is_image_or_video|           image_src|       save_location|      category|\n+-----+--------------------+--------------------+--------------------+--------------+--------------------+--------------------+-----------------+--------------------+--------------------+--------------+\n| 2482|08604f20-fa17-4b9...|FORNT PORCH CHRIS...|Christmas decorat...|         46000|Life on Summerhil...|Diy Christmas Dec...|            video|https://i.pinimg....|     /data/christmas|     christmas|\n|10138|927c4658-cc3f-4b9...|14 Amazing Things...|This Costa Rica i...|         10000|Wanderlust Chloe ...|Costa Rica Travel...|            image|https://i.pinimg....|        /data/travel|        travel|\n|10138|927c4658-cc3f-4b9...|14 Amazing Things...|This Costa Rica i...|         10000|Wanderlust Chloe ...|Costa Rica Travel...|            image|https://i.pinimg....|        /data/travel|        travel|\n| 2604|087b0fa9-f901-426...|75+ Neutral Chris...|My favorite 75+ N...|         31000|  Everyday Wholesome|Colorful Christma...|            image|https://i.pinimg....|     /data/christmas|     christmas|\n| 3156|fa6e31a4-18c2-4ec...|Handprint Reindee...|This post may con...|        892000|Michelle {CraftyM...|Christmas Gifts F...|            image|https://i.pinimg....|/data/diy-and-crafts|diy-and-crafts|\n| 3156|fa6e31a4-18c2-4ec...|Handprint Reindee...|This post may con...|        892000|Michelle {CraftyM...|Christmas Gifts F...|            image|https://i.pinimg....|/data/diy-and-crafts|diy-and-crafts|\n|10119|40eab9ba-7812-4f2...|How to Afford Fam...|See families trav...|          9000|OUR NEXT ADVENTUR...|Family Vacation D...|            image|https://i.pinimg....|        /data/travel|        travel|\n| 3419|d0b80187-0171-49b...|Easy Christmas Tr...|Easy Christmas tr...|          3000|Kids Crafts &amp; Fre...|Christmas Crafts ...|            image|https://i.pinimg....|/data/diy-and-crafts|diy-and-crafts|\n| 9093|8e478adb-0e3f-404...|51 Unique Minimal...|&#34;Minimalist Tatto...|         54000|Beautyholo | Late...|Small Tattoos Men...|            image|https://i.pinimg....|       /data/tattoos|       tattoos|\n| 5494|8fb2af68-543b-463...|Dave Ramsey&#39;s 7 B...|If you love budge...|         26000|Living Low Key | ...|Financial Peace,F...|            image|https://i.pinimg....|       /data/finance|       finance|\n| 5494|8fb2af68-543b-463...|Dave Ramsey&#39;s 7 B...|If you love budge...|         26000|Living Low Key | ...|Financial Peace,F...|            image|https://i.pinimg....|       /data/finance|       finance|\n| 5494|8fb2af68-543b-463...|Dave Ramsey&#39;s 7 B...|If you love budge...|         26000|Living Low Key | ...|Financial Peace,F...|            image|https://i.pinimg....|       /data/finance|       finance|\n| 2858|26f81da4-26a9-465...|50 Popular Spring...|Celebrate warmer ...|        108000|This Tiny  Blue H...|Spring Crafts For...|            image|https://i.pinimg....|/data/diy-and-crafts|diy-and-crafts|\n| 2418|da8745a6-5160-46c...|100 DIY Christmas...|Here are the best...|        500000|            HikenDip|Farmhouse Christm...|            image|https://i.pinimg....|     /data/christmas|     christmas|\n| 2418|da8745a6-5160-46c...|100 DIY Christmas...|Here are the best...|        500000|            HikenDip|Farmhouse Christm...|            image|https://i.pinimg....|     /data/christmas|     christmas|\n| 8312|ca3c9bb0-7281-4b9...|8 Vision Board Id...|Trying to create ...|         42000|TheFab20s | Trave...|Positive Self Aff...|            image|https://i.pinimg....|        /data/quotes|        quotes|\n| 7922|a584581c-1b38-473...|45 Top Life Quote...|summcoco gives yo...|        306000|Sumcoco | Decor I...|Life Quotes Love,...|            image|https://i.pinimg....|        /data/quotes|        quotes|\n| 7922|a584581c-1b38-473...|45 Top Life Quote...|summcoco gives yo...|        306000|Sumcoco | Decor I...|Life Quotes Love,...|            image|https://i.pinimg....|        /data/quotes|        quotes|\n|  771|a5021766-a8aa-4dc...|African Sunset Sh...|Use your mini wor...|          4000|Taming Little Mon...|African Art Proje...|            image|https://i.pinimg....|           /data/art|           art|\n| 4508|9064f4a2-2753-476...|Custom Event and ...|Personalize your ...|           111|Life of Neon | Cu...|Our Wedding,Weddi...|            image|https://i.pinimg....|/data/event-planning|event-planning|\n+-----+--------------------+--------------------+--------------------+--------------+--------------------+--------------------+-----------------+--------------------+--------------------+--------------+\nonly showing top 20 rows\n\n</div>",
       "datasetInfos": [],
       "metadata": {},
       "removedWidgets": [],
       "type": "html"
      }
     },
     "output_type": "display_data"
    }
   ],
   "source": [
    "# Replace empty entries and entries with no relevant data in each column with Nones\n",
    "missing_values = { \n",
    "    \"follower_count\": \"User Info Error\",\n",
    "    \"description\": \"No description available%\",\n",
    "    \"tag_list\": \"N,o, ,T,a,g,s, ,A,v,a,i,l,a,b,l,e\",\n",
    "    \"image_src\": \"Image src error.\",\n",
    "    \"poster_name\": \"User Info Error\",\n",
    "    \"title\": \"No Title Data Available\"\n",
    "}\n",
    "\n",
    "for column, value in missing_values.items():\n",
    "    df_pin = df_pin.withColumn(column, when(col(column).like(value), None).otherwise(col(column)))\n",
    "\n",
    "# Perform transformations on the follower_count to ensure every entry is a number\n",
    "df_pin = df_pin.withColumn(\"follower_count\", regexp_replace(\"follower_count\", \"k\", \"000\"))\n",
    "df_pin = df_pin.withColumn(\"follower_count\", regexp_replace(\"follower_count\", \"M\", \"000000\"))\n",
    "# Cast follower_count column to integer type\n",
    "df_pin = df_pin.withColumn(\"follower_count\", col(\"follower_count\").cast('int'))\n",
    "# Clean the save_location column to include only the save location path\n",
    "df_pin = df_pin.withColumn(\"save_location\", regexp_replace(\"save_location\", \"Local save in \", \"\"))\n",
    "# Rename the index column to ind\n",
    "df_pin = df_pin.withColumnRenamed(\"index\", \"ind\")\n",
    "# Rearrange columns\n",
    "pin_column_order = [\n",
    "    \"ind\",\n",
    "    \"unique_id\",\n",
    "    \"title\",\n",
    "    \"description\",\n",
    "    \"follower_count\",\n",
    "    \"poster_name\",\n",
    "    \"tag_list\",\n",
    "    \"is_image_or_video\",\n",
    "    \"image_src\",\n",
    "    \"save_location\",\n",
    "    \"category\"\n",
    "]\n",
    "df_pin = df_pin.select(new_pin_column_order)\n",
    "df_pin.show()"
   ]
  },
  {
   "cell_type": "markdown",
   "metadata": {
    "application/vnd.databricks.v1+cell": {
     "cellMetadata": {
      "byteLimit": 2048000,
      "rowLimit": 10000
     },
     "inputWidgets": {},
     "nuid": "e4dd48a4-50aa-40f8-86cf-7a22b27b6e58",
     "showTitle": false,
     "title": ""
    }
   },
   "source": [
    "### Clean Geolocation dataframe"
   ]
  },
  {
   "cell_type": "code",
   "execution_count": null,
   "metadata": {
    "application/vnd.databricks.v1+cell": {
     "cellMetadata": {
      "byteLimit": 2048000,
      "rowLimit": 10000
     },
     "collapsed": true,
     "inputWidgets": {},
     "nuid": "44f35c2e-74c3-46c1-95b4-9b52d544dddd",
     "showTitle": false,
     "title": ""
    }
   },
   "outputs": [
    {
     "data": {
      "text/html": [
       "<style scoped>\n",
       "  .ansiout {\n",
       "    display: block;\n",
       "    unicode-bidi: embed;\n",
       "    white-space: pre-wrap;\n",
       "    word-wrap: break-word;\n",
       "    word-break: break-all;\n",
       "    font-family: \"Menlo\", \"Monaco\", \"Consolas\", \"Ubuntu Mono\", \"Source Code Pro\", monospace;\n",
       "    font-size: 13px;\n",
       "    color: #555;\n",
       "    margin-left: 4px;\n",
       "    line-height: 19px;\n",
       "  }\n",
       "</style>\n",
       "<div class=\"ansiout\">+-----+--------------------+--------------------+-------------------+\n",
       "  ind|             country|         coordinates|          timestamp|\n",
       "+-----+--------------------+--------------------+-------------------+\n",
       " 2418|Antarctica (the t...|[-88.4642, -171.061]|2022-05-27 11:30:59|\n",
       "10794|Cocos (Keeling) I...|[-89.5236, -154.567]|2022-01-01 02:26:50|\n",
       " 2074|Central African R...|  [-52.3213, -50.11]|2019-11-03 05:41:59|\n",
       " 7922| Antigua and Barbuda|[-88.0974, -172.052]|2021-01-27 09:14:19|\n",
       " 9979|  Dominican Republic| [14.9967, -120.682]|2018-07-18 19:01:46|\n",
       " 2923|       Cote d&#39;Ivoire|[-84.6302, -164.507]|2019-09-08 22:53:09|\n",
       " 8304|       French Guiana| [-28.8852, -164.87]|2019-09-13 04:50:29|\n",
       " 4315|       Cote d&#39;Ivoire| [-45.8508, 66.1003]|2019-12-15 03:51:28|\n",
       " 5069|          Azerbaijan|[-63.0063, -157.474]|2021-03-20 09:32:44|\n",
       " 6145|          Mozambique|[-65.9079, -143.845]|2019-12-05 02:09:44|\n",
       "  428|          Bangladesh|[-83.4105, -150.788]|2020-09-27 18:46:41|\n",
       " 7343|           Australia|[-65.4428, -161.684]|2018-08-06 12:17:07|\n",
       " 8653|          Seychelles| [48.4569, -139.658]|2022-04-11 18:30:19|\n",
       " 5494|            Bulgaria|[-82.6768, -129.202]|2021-07-21 02:02:35|\n",
       " 6063|            Anguilla|[-89.1797, -174.015]|2021-07-20 09:02:47|\n",
       " 3454|            Cambodia|[-0.375174, 49.8106]|2021-07-25 02:20:29|\n",
       "10625|             Jamaica|[-84.4944, -81.0613]|2018-07-13 11:51:15|\n",
       " 9875|            Barbados|[-74.3382, -110.484]|2020-03-20 13:03:18|\n",
       " 8887|            Botswana|[-28.0137, -160.708]|2021-09-19 05:27:43|\n",
       " 7528|             Albania|[-89.9787, -173.293]|2020-08-28 03:52:47|\n",
       "+-----+--------------------+--------------------+-------------------+\n",
       "only showing top 20 rows\n",
       "\n",
       "</div>"
      ]
     },
     "metadata": {
      "application/vnd.databricks.v1+output": {
       "addedWidgets": {},
       "arguments": {},
       "data": "<div class=\"ansiout\">+-----+--------------------+--------------------+-------------------+\n|  ind|             country|         coordinates|          timestamp|\n+-----+--------------------+--------------------+-------------------+\n| 2418|Antarctica (the t...|[-88.4642, -171.061]|2022-05-27 11:30:59|\n|10794|Cocos (Keeling) I...|[-89.5236, -154.567]|2022-01-01 02:26:50|\n| 2074|Central African R...|  [-52.3213, -50.11]|2019-11-03 05:41:59|\n| 7922| Antigua and Barbuda|[-88.0974, -172.052]|2021-01-27 09:14:19|\n| 9979|  Dominican Republic| [14.9967, -120.682]|2018-07-18 19:01:46|\n| 2923|       Cote d&#39;Ivoire|[-84.6302, -164.507]|2019-09-08 22:53:09|\n| 8304|       French Guiana| [-28.8852, -164.87]|2019-09-13 04:50:29|\n| 4315|       Cote d&#39;Ivoire| [-45.8508, 66.1003]|2019-12-15 03:51:28|\n| 5069|          Azerbaijan|[-63.0063, -157.474]|2021-03-20 09:32:44|\n| 6145|          Mozambique|[-65.9079, -143.845]|2019-12-05 02:09:44|\n|  428|          Bangladesh|[-83.4105, -150.788]|2020-09-27 18:46:41|\n| 7343|           Australia|[-65.4428, -161.684]|2018-08-06 12:17:07|\n| 8653|          Seychelles| [48.4569, -139.658]|2022-04-11 18:30:19|\n| 5494|            Bulgaria|[-82.6768, -129.202]|2021-07-21 02:02:35|\n| 6063|            Anguilla|[-89.1797, -174.015]|2021-07-20 09:02:47|\n| 3454|            Cambodia|[-0.375174, 49.8106]|2021-07-25 02:20:29|\n|10625|             Jamaica|[-84.4944, -81.0613]|2018-07-13 11:51:15|\n| 9875|            Barbados|[-74.3382, -110.484]|2020-03-20 13:03:18|\n| 8887|            Botswana|[-28.0137, -160.708]|2021-09-19 05:27:43|\n| 7528|             Albania|[-89.9787, -173.293]|2020-08-28 03:52:47|\n+-----+--------------------+--------------------+-------------------+\nonly showing top 20 rows\n\n</div>",
       "datasetInfos": [],
       "metadata": {},
       "removedWidgets": [],
       "type": "html"
      }
     },
     "output_type": "display_data"
    }
   ],
   "source": [
    "# Create a new column coordinates that contains an array based on the latitude and longitude columnse\n",
    "df_geo = df_geo.withColumn(\"coordinates\", array(col(\"latitude\"), col(\"longitude\")))\n",
    "# Drop the latitude and longitude columns\n",
    "df_geo = df_geo.drop(\"latitude\", \"longitude\")\n",
    "# Convert timestamp column from a string to a timestamp type\n",
    "df_geo = df_geo.withColumn(\"timestamp\", to_timestamp(\"timestamp\"))\n",
    "# Rearrange columns\n",
    "geo_column_order = [\n",
    "    \"ind\",\n",
    "    \"country\",\n",
    "    \"coordinates\",\n",
    "    \"timestamp\"\n",
    "]\n",
    "df_geo = df_geo.select(geo_column_order)\n",
    "df_geo.show()"
   ]
  },
  {
   "cell_type": "markdown",
   "metadata": {
    "application/vnd.databricks.v1+cell": {
     "cellMetadata": {
      "byteLimit": 2048000,
      "rowLimit": 10000
     },
     "inputWidgets": {},
     "nuid": "590ecda8-aef1-4acc-b5e7-662f810c85df",
     "showTitle": false,
     "title": ""
    }
   },
   "source": [
    "### Clean Users dataframe"
   ]
  },
  {
   "cell_type": "code",
   "execution_count": null,
   "metadata": {
    "application/vnd.databricks.v1+cell": {
     "cellMetadata": {
      "byteLimit": 2048000,
      "rowLimit": 10000
     },
     "collapsed": true,
     "inputWidgets": {},
     "nuid": "b270ba69-bd19-4bfe-b35d-64813790b305",
     "showTitle": false,
     "title": ""
    }
   },
   "outputs": [
    {
     "data": {
      "text/html": [
       "<style scoped>\n",
       "  .ansiout {\n",
       "    display: block;\n",
       "    unicode-bidi: embed;\n",
       "    white-space: pre-wrap;\n",
       "    word-wrap: break-word;\n",
       "    word-break: break-all;\n",
       "    font-family: \"Menlo\", \"Monaco\", \"Consolas\", \"Ubuntu Mono\", \"Source Code Pro\", monospace;\n",
       "    font-size: 13px;\n",
       "    color: #555;\n",
       "    margin-left: 4px;\n",
       "    line-height: 19px;\n",
       "  }\n",
       "</style>\n",
       "<div class=\"ansiout\">+-----+----------------+---+-------------------+\n",
       "  ind|       user_name|age|        date_joined|\n",
       "+-----+----------------+---+-------------------+\n",
       " 8731|Andrea Alexander| 21|2015-11-10 09:27:42|\n",
       " 8887|Austin Rodriguez| 24|2016-03-31 20:56:39|\n",
       " 4315| Michelle Prince| 36|2015-12-20 16:38:13|\n",
       "10625|  Christian Lang| 32|2017-10-10 20:09:33|\n",
       " 9672| Jennifer Hudson| 22|2016-02-11 20:46:04|\n",
       " 1313|  Brittany Jones| 32|2016-04-02 03:51:23|\n",
       "10794|   Thomas Turner| 34|2016-12-22 00:02:02|\n",
       " 2959|  David Griffith| 20|2016-01-07 19:49:22|\n",
       " 9875|  Brendan Joseph| 26|2015-12-20 10:28:00|\n",
       " 2074|  Annette Forbes| 21|2016-01-03 15:42:12|\n",
       " 1014|  Gregory Ramsey| 56|2016-10-15 17:21:39|\n",
       " 8304|   Charles Berry| 25|2015-12-28 04:21:39|\n",
       " 6063|   Corey Andrews| 23|2015-11-25 13:36:22|\n",
       " 3454|   Robert Murphy| 48|2017-09-26 16:31:56|\n",
       " 7554|   Cheryl Huerta| 20|2017-04-11 16:35:33|\n",
       " 6145|   Emily Hawkins| 30|2015-12-25 20:24:37|\n",
       " 9979|   Kaylee Miller| 31|2016-11-09 19:50:51|\n",
       " 4913|   Angela Brooks| 24|2015-11-20 05:37:11|\n",
       " 2863|    Dylan Holmes| 32|2016-10-23 14:06:51|\n",
       " 5730|    Rachel Davis| 36|2015-12-08 20:02:43|\n",
       "+-----+----------------+---+-------------------+\n",
       "only showing top 20 rows\n",
       "\n",
       "</div>"
      ]
     },
     "metadata": {
      "application/vnd.databricks.v1+output": {
       "addedWidgets": {},
       "arguments": {},
       "data": "<div class=\"ansiout\">+-----+----------------+---+-------------------+\n|  ind|       user_name|age|        date_joined|\n+-----+----------------+---+-------------------+\n| 8731|Andrea Alexander| 21|2015-11-10 09:27:42|\n| 8887|Austin Rodriguez| 24|2016-03-31 20:56:39|\n| 4315| Michelle Prince| 36|2015-12-20 16:38:13|\n|10625|  Christian Lang| 32|2017-10-10 20:09:33|\n| 9672| Jennifer Hudson| 22|2016-02-11 20:46:04|\n| 1313|  Brittany Jones| 32|2016-04-02 03:51:23|\n|10794|   Thomas Turner| 34|2016-12-22 00:02:02|\n| 2959|  David Griffith| 20|2016-01-07 19:49:22|\n| 9875|  Brendan Joseph| 26|2015-12-20 10:28:00|\n| 2074|  Annette Forbes| 21|2016-01-03 15:42:12|\n| 1014|  Gregory Ramsey| 56|2016-10-15 17:21:39|\n| 8304|   Charles Berry| 25|2015-12-28 04:21:39|\n| 6063|   Corey Andrews| 23|2015-11-25 13:36:22|\n| 3454|   Robert Murphy| 48|2017-09-26 16:31:56|\n| 7554|   Cheryl Huerta| 20|2017-04-11 16:35:33|\n| 6145|   Emily Hawkins| 30|2015-12-25 20:24:37|\n| 9979|   Kaylee Miller| 31|2016-11-09 19:50:51|\n| 4913|   Angela Brooks| 24|2015-11-20 05:37:11|\n| 2863|    Dylan Holmes| 32|2016-10-23 14:06:51|\n| 5730|    Rachel Davis| 36|2015-12-08 20:02:43|\n+-----+----------------+---+-------------------+\nonly showing top 20 rows\n\n</div>",
       "datasetInfos": [],
       "metadata": {},
       "removedWidgets": [],
       "type": "html"
      }
     },
     "output_type": "display_data"
    }
   ],
   "source": [
    "# Create a user_name from the first_name and last_name columns\n",
    "df_user = df_user.withColumn(\"user_name\", concat_ws(\" \", \"first_name\", \"last_name\"))\n",
    "# Drop the first_name and last_name columns\n",
    "df_user = df_user.drop(\"first_name\", \"last_name\")\n",
    "# Convert date_joined column from a string to a timestamp type\n",
    "df_user = df_user.withColumn(\"date_joined\", to_timestamp(\"date_joined\"))\n",
    "# Rearrange columns\n",
    "user_column_order = [\n",
    "    \"ind\",\n",
    "    \"user_name\",\n",
    "    \"age\",\n",
    "    \"date_joined\"\n",
    "]\n",
    "df_user = df_user.select(user_column_order)\n",
    "df_user.show()"
   ]
  },
  {
   "cell_type": "code",
   "execution_count": null,
   "metadata": {
    "application/vnd.databricks.v1+cell": {
     "cellMetadata": {
      "byteLimit": 2048000,
      "rowLimit": 10000
     },
     "inputWidgets": {},
     "nuid": "3a9778ca-93ac-47e2-aa9a-0e0f69d851c3",
     "showTitle": false,
     "title": ""
    }
   },
   "outputs": [
    {
     "data": {
      "text/html": [
       "<style scoped>\n",
       "  .ansiout {\n",
       "    display: block;\n",
       "    unicode-bidi: embed;\n",
       "    white-space: pre-wrap;\n",
       "    word-wrap: break-word;\n",
       "    word-break: break-all;\n",
       "    font-family: \"Menlo\", \"Monaco\", \"Consolas\", \"Ubuntu Mono\", \"Source Code Pro\", monospace;\n",
       "    font-size: 13px;\n",
       "    color: #555;\n",
       "    margin-left: 4px;\n",
       "    line-height: 19px;\n",
       "  }\n",
       "</style>\n",
       "<div class=\"ansiout\"></div>"
      ]
     },
     "metadata": {
      "application/vnd.databricks.v1+output": {
       "addedWidgets": {},
       "arguments": {},
       "data": "<div class=\"ansiout\"></div>",
       "datasetInfos": [],
       "metadata": {},
       "removedWidgets": [],
       "type": "html"
      }
     },
     "output_type": "display_data"
    }
   ],
   "source": [
    "from pyspark.sql.window import Window\n",
    "# Join df_pin and df_geo dataframes on index coumn\n",
    "df_pin_geo = df_pin.join(df_geo, df_pin.ind == df_geo.ind)"
   ]
  },
  {
   "cell_type": "markdown",
   "metadata": {
    "application/vnd.databricks.v1+cell": {
     "cellMetadata": {
      "byteLimit": 2048000,
      "rowLimit": 10000
     },
     "inputWidgets": {},
     "nuid": "01717ca8-e262-4a9a-b1b6-b4abb49308da",
     "showTitle": false,
     "title": ""
    }
   },
   "source": [
    "### Find the most popular category people post to based on their country."
   ]
  },
  {
   "cell_type": "code",
   "execution_count": null,
   "metadata": {
    "application/vnd.databricks.v1+cell": {
     "cellMetadata": {
      "byteLimit": 2048000,
      "rowLimit": 10000
     },
     "collapsed": true,
     "inputWidgets": {},
     "nuid": "9f6e3ed2-88f0-4ad2-a748-7cae6acdd438",
     "showTitle": false,
     "title": ""
    }
   },
   "outputs": [
    {
     "data": {
      "text/html": [
       "<style scoped>\n",
       "  .ansiout {\n",
       "    display: block;\n",
       "    unicode-bidi: embed;\n",
       "    white-space: pre-wrap;\n",
       "    word-wrap: break-word;\n",
       "    word-break: break-all;\n",
       "    font-family: \"Menlo\", \"Monaco\", \"Consolas\", \"Ubuntu Mono\", \"Source Code Pro\", monospace;\n",
       "    font-size: 13px;\n",
       "    color: #555;\n",
       "    margin-left: 4px;\n",
       "    line-height: 19px;\n",
       "  }\n",
       "</style>\n",
       "<div class=\"ansiout\">+--------------------+--------------+--------------+\n",
       "             country|      category|category_count|\n",
       "+--------------------+--------------+--------------+\n",
       "             Albania|  mens-fashion|            10|\n",
       "              Angola|diy-and-crafts|             2|\n",
       "            Anguilla|    home-decor|             3|\n",
       "Antarctica (the t...|     christmas|             2|\n",
       " Antigua and Barbuda|        quotes|             2|\n",
       "             Armenia|diy-and-crafts|            10|\n",
       "               Aruba|       tattoos|             3|\n",
       "           Australia|  mens-fashion|             2|\n",
       "             Austria|        travel|             2|\n",
       "          Azerbaijan|event-planning|             3|\n",
       "          Bangladesh|           art|             2|\n",
       "            Barbados|        travel|             2|\n",
       "            Botswana|       tattoos|             2|\n",
       "            Bulgaria|       finance|             3|\n",
       "            Cambodia|diy-and-crafts|             3|\n",
       "Central African R...|     christmas|             2|\n",
       "Cocos (Keeling) I...|      vehicles|             3|\n",
       "            Colombia|       finance|             8|\n",
       "       Cote d&#39;Ivoire|diy-and-crafts|             3|\n",
       "  Dominican Republic|        travel|             2|\n",
       "+--------------------+--------------+--------------+\n",
       "only showing top 20 rows\n",
       "\n",
       "</div>"
      ]
     },
     "metadata": {
      "application/vnd.databricks.v1+output": {
       "addedWidgets": {},
       "arguments": {},
       "data": "<div class=\"ansiout\">+--------------------+--------------+--------------+\n|             country|      category|category_count|\n+--------------------+--------------+--------------+\n|             Albania|  mens-fashion|            10|\n|              Angola|diy-and-crafts|             2|\n|            Anguilla|    home-decor|             3|\n|Antarctica (the t...|     christmas|             2|\n| Antigua and Barbuda|        quotes|             2|\n|             Armenia|diy-and-crafts|            10|\n|               Aruba|       tattoos|             3|\n|           Australia|  mens-fashion|             2|\n|             Austria|        travel|             2|\n|          Azerbaijan|event-planning|             3|\n|          Bangladesh|           art|             2|\n|            Barbados|        travel|             2|\n|            Botswana|       tattoos|             2|\n|            Bulgaria|       finance|             3|\n|            Cambodia|diy-and-crafts|             3|\n|Central African R...|     christmas|             2|\n|Cocos (Keeling) I...|      vehicles|             3|\n|            Colombia|       finance|             8|\n|       Cote d&#39;Ivoire|diy-and-crafts|             3|\n|  Dominican Republic|        travel|             2|\n+--------------------+--------------+--------------+\nonly showing top 20 rows\n\n</div>",
       "datasetInfos": [],
       "metadata": {},
       "removedWidgets": [],
       "type": "html"
      }
     },
     "output_type": "display_data"
    }
   ],
   "source": [
    "\n",
    "# Define a window function to partition by country and order by category_count in descending order.\n",
    "windowCategoryPerCountry = Window.partitionBy(\"country\").orderBy(col(\"category_count\").desc())\n",
    "\n",
    "# Group the data by \"country\" and \"category\", and count the number of posts in each category.\n",
    "# Add a column \"category_count\" to store the count.\n",
    "# Add a rank column using row_number() function over the defined window function.\n",
    "# Filter the rows where rank is 1 to get the category with the highest post count for each country.\n",
    "# Drop the rank column and display the result.\n",
    "df_pin_geo.groupBy(\"country\", \"category\") \\\n",
    "    .agg(count(\"category\").alias(\"category_count\")) \\\n",
    "    .withColumn(\"rank\", row_number().over(windowCategoryPerCountry)) \\\n",
    "    .filter(col(\"rank\") == 1) \\\n",
    "    .drop(\"rank\") \\\n",
    "    .show()"
   ]
  },
  {
   "cell_type": "markdown",
   "metadata": {
    "application/vnd.databricks.v1+cell": {
     "cellMetadata": {
      "byteLimit": 2048000,
      "rowLimit": 10000
     },
     "inputWidgets": {},
     "nuid": "b3679d14-9fef-4532-8527-41064f49c76a",
     "showTitle": false,
     "title": ""
    }
   },
   "source": [
    "### Find how many posts each category had between 2018 and 2022"
   ]
  },
  {
   "cell_type": "code",
   "execution_count": null,
   "metadata": {
    "application/vnd.databricks.v1+cell": {
     "cellMetadata": {
      "byteLimit": 2048000,
      "rowLimit": 10000
     },
     "inputWidgets": {},
     "nuid": "ecd2dde7-f865-453d-9d04-523d0e72841f",
     "showTitle": false,
     "title": ""
    }
   },
   "outputs": [
    {
     "data": {
      "text/html": [
       "<style scoped>\n",
       "  .ansiout {\n",
       "    display: block;\n",
       "    unicode-bidi: embed;\n",
       "    white-space: pre-wrap;\n",
       "    word-wrap: break-word;\n",
       "    word-break: break-all;\n",
       "    font-family: \"Menlo\", \"Monaco\", \"Consolas\", \"Ubuntu Mono\", \"Source Code Pro\", monospace;\n",
       "    font-size: 13px;\n",
       "    color: #555;\n",
       "    margin-left: 4px;\n",
       "    line-height: 19px;\n",
       "  }\n",
       "</style>\n",
       "<div class=\"ansiout\">+---------+--------------+--------------+\n",
       "post_year|      category|category_count|\n",
       "+---------+--------------+--------------+\n",
       "     2018|diy-and-crafts|             5|\n",
       "     2019|diy-and-crafts|             5|\n",
       "     2020|  mens-fashion|            10|\n",
       "     2021|       finance|            11|\n",
       "     2022|      vehicles|             3|\n",
       "+---------+--------------+--------------+\n",
       "\n",
       "</div>"
      ]
     },
     "metadata": {
      "application/vnd.databricks.v1+output": {
       "addedWidgets": {},
       "arguments": {},
       "data": "<div class=\"ansiout\">+---------+--------------+--------------+\n|post_year|      category|category_count|\n+---------+--------------+--------------+\n|     2018|diy-and-crafts|             5|\n|     2019|diy-and-crafts|             5|\n|     2020|  mens-fashion|            10|\n|     2021|       finance|            11|\n|     2022|      vehicles|             3|\n+---------+--------------+--------------+\n\n</div>",
       "datasetInfos": [],
       "metadata": {},
       "removedWidgets": [],
       "type": "html"
      }
     },
     "output_type": "display_data"
    }
   ],
   "source": [
    "# Define a window function to partition by post_year and order by category_count in descending order.\n",
    "windowCategoryPerYear = Window.partitionBy(\"post_year\").orderBy(col(\"category_count\").desc())\n",
    "\n",
    "# Add a new column \"post_year\" to df_pin_geo by extracting the year from the \"timestamp\" column.\n",
    "# Group the data by \"post_year\" and \"category\", and count the number of posts in each category.\n",
    "# Add a rank column using row_number() function over the defined window function.\n",
    "# Filter the rows where rank is 1 to get the category with the highest post count in each year.\n",
    "# Drop the rank column and display the result.\n",
    "df_pin_geo.withColumn(\"post_year\", year(\"timestamp\")) \\\n",
    "    .groupBy(\"post_year\", \"category\") \\\n",
    "    .agg(count(\"category\").alias(\"category_count\")) \\\n",
    "    .withColumn(\"rank\", row_number().over(windowCategoryPerYear)) \\\n",
    "    .filter(col(\"rank\") == 1) \\\n",
    "    .drop(\"rank\") \\\n",
    "    .show()"
   ]
  },
  {
   "cell_type": "markdown",
   "metadata": {
    "application/vnd.databricks.v1+cell": {
     "cellMetadata": {
      "byteLimit": 2048000,
      "rowLimit": 10000
     },
     "inputWidgets": {},
     "nuid": "c497ae1e-bd55-412f-a73e-d9f7c22e5a72",
     "showTitle": false,
     "title": ""
    }
   },
   "source": [
    "### For each country, find the user with the most followers.\n",
    "### Then, find the country with the user with the most followers."
   ]
  },
  {
   "cell_type": "code",
   "execution_count": null,
   "metadata": {
    "application/vnd.databricks.v1+cell": {
     "cellMetadata": {
      "byteLimit": 2048000,
      "rowLimit": 10000
     },
     "inputWidgets": {},
     "nuid": "add36583-bfff-4cf9-a367-29ab838f1d9e",
     "showTitle": false,
     "title": ""
    }
   },
   "outputs": [
    {
     "data": {
      "text/html": [
       "<style scoped>\n",
       "  .ansiout {\n",
       "    display: block;\n",
       "    unicode-bidi: embed;\n",
       "    white-space: pre-wrap;\n",
       "    word-wrap: break-word;\n",
       "    word-break: break-all;\n",
       "    font-family: \"Menlo\", \"Monaco\", \"Consolas\", \"Ubuntu Mono\", \"Source Code Pro\", monospace;\n",
       "    font-size: 13px;\n",
       "    color: #555;\n",
       "    margin-left: 4px;\n",
       "    line-height: 19px;\n",
       "  }\n",
       "</style>\n",
       "<div class=\"ansiout\">+----------+---------------+--------------+\n",
       "   country|    poster_name|follower_count|\n",
       "+----------+---------------+--------------+\n",
       "Azerbaijan|Style Me Pretty|       6000000|\n",
       "+----------+---------------+--------------+\n",
       "\n",
       "</div>"
      ]
     },
     "metadata": {
      "application/vnd.databricks.v1+output": {
       "addedWidgets": {},
       "arguments": {},
       "data": "<div class=\"ansiout\">+----------+---------------+--------------+\n|   country|    poster_name|follower_count|\n+----------+---------------+--------------+\n|Azerbaijan|Style Me Pretty|       6000000|\n+----------+---------------+--------------+\n\n</div>",
       "datasetInfos": [],
       "metadata": {},
       "removedWidgets": [],
       "type": "html"
      }
     },
     "output_type": "display_data"
    }
   ],
   "source": [
    "\n",
    "# Define a window function to partition by country and order by follower_count in descending order.\n",
    "windowFollowersPerCountry = Window.partitionBy(\"country\").orderBy(col(\"follower_count\").desc())\n",
    "\n",
    "# Select the columns \"country\", \"poster_name\", \"follower_count\" from df_pin_geo.\n",
    "# Add a rank column using row_number() function over the defined window function.\n",
    "# Filter the rows where rank is 1 to get the user with the most followers for each country.\n",
    "# Drop the rank column and rows with null values.\n",
    "most_followers_per_country = df_pin_geo \\\n",
    "    .select(\"country\", \"poster_name\", \"follower_count\") \\\n",
    "    .withColumn(\"rank\", row_number().over(windowFollowersPerCountry)) \\\n",
    "    .filter(col(\"rank\") == 1) \\\n",
    "    .drop(\"rank\") \\\n",
    "    .dropna()\n",
    "\n",
    "# Order the most_followers_per_country DataFrame by follower_count in descending order\n",
    "# and select the row with the highest follower_count using limit(1).\n",
    "most_popular_user = most_followers_per_country \\\n",
    "    .orderBy(col(\"follower_count\").desc()) \\\n",
    "    .limit(1)\n",
    "\n",
    "# Display the most_popular_user DataFrame.\n",
    "most_popular_user.show()"
   ]
  },
  {
   "cell_type": "markdown",
   "metadata": {
    "application/vnd.databricks.v1+cell": {
     "cellMetadata": {
      "byteLimit": 2048000,
      "rowLimit": 10000
     },
     "inputWidgets": {},
     "nuid": "830e60da-006e-40b2-9c9d-cdf9ff5449f6",
     "showTitle": false,
     "title": ""
    }
   },
   "source": [
    "### Find the most popular category people post to per age group"
   ]
  },
  {
   "cell_type": "code",
   "execution_count": null,
   "metadata": {
    "application/vnd.databricks.v1+cell": {
     "cellMetadata": {
      "byteLimit": 2048000,
      "rowLimit": 10000
     },
     "collapsed": true,
     "inputWidgets": {},
     "nuid": "24484a7c-801d-41a2-a230-fed7c4c10100",
     "showTitle": false,
     "title": ""
    }
   },
   "outputs": [
    {
     "data": {
      "text/html": [
       "<style scoped>\n",
       "  .ansiout {\n",
       "    display: block;\n",
       "    unicode-bidi: embed;\n",
       "    white-space: pre-wrap;\n",
       "    word-wrap: break-word;\n",
       "    word-break: break-all;\n",
       "    font-family: \"Menlo\", \"Monaco\", \"Consolas\", \"Ubuntu Mono\", \"Source Code Pro\", monospace;\n",
       "    font-size: 13px;\n",
       "    color: #555;\n",
       "    margin-left: 4px;\n",
       "    line-height: 19px;\n",
       "  }\n",
       "</style>\n",
       "<div class=\"ansiout\">+---------+--------------+--------------+\n",
       "age_group|      category|category_count|\n",
       "+---------+--------------+--------------+\n",
       "    18-24|  mens-fashion|            25|\n",
       "    25-35|diy-and-crafts|            19|\n",
       "    36-50|       finance|            16|\n",
       "      50+|        beauty|             2|\n",
       "+---------+--------------+--------------+\n",
       "\n",
       "</div>"
      ]
     },
     "metadata": {
      "application/vnd.databricks.v1+output": {
       "addedWidgets": {},
       "arguments": {},
       "data": "<div class=\"ansiout\">+---------+--------------+--------------+\n|age_group|      category|category_count|\n+---------+--------------+--------------+\n|    18-24|  mens-fashion|            25|\n|    25-35|diy-and-crafts|            19|\n|    36-50|       finance|            16|\n|      50+|        beauty|             2|\n+---------+--------------+--------------+\n\n</div>",
       "datasetInfos": [],
       "metadata": {},
       "removedWidgets": [],
       "type": "html"
      }
     },
     "output_type": "display_data"
    }
   ],
   "source": [
    "# Define a window function to partition by age_group and order by category_count in descending order.\n",
    "windowCategoryPerAge = Window.partitionBy(\"age_group\").orderBy(col(\"category_count\").desc())\n",
    "\n",
    "# Join df_pin, df_geo, and df_user on the \"ind\" column to get the required data in df_pin_geo_user.\n",
    "df_pin_geo_user = df_pin.join(df_geo, on=\"ind\").join(df_user, on=\"ind\")\n",
    "\n",
    "# Add a new column \"age_group\" to df_pin_geo_user based on the age range of each user.\n",
    "# Group the data by \"age_group\" and \"category\", and count the number of posts in each category.\n",
    "# Add a rank column using row_number() function over the defined window function.\n",
    "# Filter the rows where rank is 1 to get the category with the highest post count in each age group.\n",
    "# Drop the rank column and display the result.\n",
    "df_pin_geo_user.withColumn(\"age_group\", when((col(\"age\") >= 18) & (col(\"age\") <= 24), \"18-24\")\n",
    "                                   .when((col(\"age\") >= 25) & (col(\"age\") <= 35), \"25-35\")\n",
    "                                   .when((col(\"age\") >= 36) & (col(\"age\") <= 50), \"36-50\")\n",
    "                                   .when((col(\"age\") > 50), \"50+\")) \\\n",
    "    .groupBy(\"age_group\", \"category\") \\\n",
    "    .agg(count(\"category\").alias(\"category_count\")) \\\n",
    "    .withColumn(\"rank\", row_number().over(windowCategoryPerAge)) \\\n",
    "    .filter(col(\"rank\") == 1) \\\n",
    "    .drop(\"rank\") \\\n",
    "    .show()"
   ]
  },
  {
   "cell_type": "markdown",
   "metadata": {
    "application/vnd.databricks.v1+cell": {
     "cellMetadata": {
      "byteLimit": 2048000,
      "rowLimit": 10000
     },
     "inputWidgets": {},
     "nuid": "5eb46a30-3700-46fb-8df9-4ba53f94a789",
     "showTitle": false,
     "title": ""
    }
   },
   "source": [
    "### Find the most popular category for different age groups"
   ]
  },
  {
   "cell_type": "code",
   "execution_count": null,
   "metadata": {
    "application/vnd.databricks.v1+cell": {
     "cellMetadata": {
      "byteLimit": 2048000,
      "rowLimit": 10000
     },
     "collapsed": true,
     "inputWidgets": {},
     "nuid": "bcc14adf-d96d-4026-a225-b10662ffe606",
     "showTitle": false,
     "title": ""
    }
   },
   "outputs": [
    {
     "data": {
      "text/html": [
       "<style scoped>\n",
       "  .ansiout {\n",
       "    display: block;\n",
       "    unicode-bidi: embed;\n",
       "    white-space: pre-wrap;\n",
       "    word-wrap: break-word;\n",
       "    word-break: break-all;\n",
       "    font-family: \"Menlo\", \"Monaco\", \"Consolas\", \"Ubuntu Mono\", \"Source Code Pro\", monospace;\n",
       "    font-size: 13px;\n",
       "    color: #555;\n",
       "    margin-left: 4px;\n",
       "    line-height: 19px;\n",
       "  }\n",
       "</style>\n",
       "<div class=\"ansiout\">+---------+---------------------+\n",
       "age_group|median_follower_count|\n",
       "+---------+---------------------+\n",
       "    18-24|               211000|\n",
       "    25-35|                43000|\n",
       "    36-50|                 6000|\n",
       "      50+|                    0|\n",
       "+---------+---------------------+\n",
       "\n",
       "</div>"
      ]
     },
     "metadata": {
      "application/vnd.databricks.v1+output": {
       "addedWidgets": {},
       "arguments": {},
       "data": "<div class=\"ansiout\">+---------+---------------------+\n|age_group|median_follower_count|\n+---------+---------------------+\n|    18-24|               211000|\n|    25-35|                43000|\n|    36-50|                 6000|\n|      50+|                    0|\n+---------+---------------------+\n\n</div>",
       "datasetInfos": [],
       "metadata": {},
       "removedWidgets": [],
       "type": "html"
      }
     },
     "output_type": "display_data"
    }
   ],
   "source": [
    "# Join df_pin and df_user DataFrames on the \"ind\" column to get the required data in df_pin_user.\n",
    "df_pin_user = df_pin.join(df_user, on=\"ind\")\n",
    "\n",
    "# Add a new column \"age_group\" to df_pin_user based on the age range of each user.\n",
    "df_pin_user_age = df_pin_user.withColumn(\"age_group\", when((col(\"age\") >= 18) & (col(\"age\") <= 24), \"18-24\")\n",
    "                                   .when((col(\"age\") >= 25) & (col(\"age\") <= 35), \"25-35\")\n",
    "                                   .when((col(\"age\") >= 36) & (col(\"age\") <= 50), \"36-50\")\n",
    "                                   .when((col(\"age\") > 50), \"50+\"))\n",
    "\n",
    "# Select the columns \"age_group\" and \"follower_count\" from df_pin_user_age DataFrame.\n",
    "# Group the data by \"age_group\" and calculate the approximate median follower count using percentile_approx() function.\n",
    "# Rename the aggregated column to \"median_follower_count\".\n",
    "# Order the result DataFrame by \"median_follower_count\" in descending order and display the result.\n",
    "df_pin_user_age.select(\"age_group\", \"follower_count\") \\\n",
    "    .distinct() \\\n",
    "    .groupBy(\"age_group\") \\\n",
    "    .agg(percentile_approx(col(\"follower_count\"), 0.5).alias(\"median_follower_count\")) \\\n",
    "    .orderBy(col(\"median_follower_count\").desc()) \\\n",
    "    .show()"
   ]
  },
  {
   "cell_type": "markdown",
   "metadata": {
    "application/vnd.databricks.v1+cell": {
     "cellMetadata": {
      "byteLimit": 2048000,
      "rowLimit": 10000
     },
     "inputWidgets": {},
     "nuid": "e8762000-c05e-4291-ba34-832ba7ff161a",
     "showTitle": false,
     "title": ""
    }
   },
   "source": [
    "### Find the number of users who joined between 2015 and 2020."
   ]
  },
  {
   "cell_type": "code",
   "execution_count": null,
   "metadata": {
    "application/vnd.databricks.v1+cell": {
     "cellMetadata": {
      "byteLimit": 2048000,
      "rowLimit": 10000
     },
     "collapsed": true,
     "inputWidgets": {},
     "nuid": "3eb95b37-42a7-4184-b89a-67e8655ea053",
     "showTitle": false,
     "title": ""
    }
   },
   "outputs": [
    {
     "data": {
      "text/html": [
       "<style scoped>\n",
       "  .ansiout {\n",
       "    display: block;\n",
       "    unicode-bidi: embed;\n",
       "    white-space: pre-wrap;\n",
       "    word-wrap: break-word;\n",
       "    word-break: break-all;\n",
       "    font-family: \"Menlo\", \"Monaco\", \"Consolas\", \"Ubuntu Mono\", \"Source Code Pro\", monospace;\n",
       "    font-size: 13px;\n",
       "    color: #555;\n",
       "    margin-left: 4px;\n",
       "    line-height: 19px;\n",
       "  }\n",
       "</style>\n",
       "<div class=\"ansiout\">+---------+-------------------+\n",
       "join_year|number_users_joined|\n",
       "+---------+-------------------+\n",
       "     2015|                 16|\n",
       "     2016|                 12|\n",
       "     2017|                  3|\n",
       "+---------+-------------------+\n",
       "\n",
       "31\n",
       "</div>"
      ]
     },
     "metadata": {
      "application/vnd.databricks.v1+output": {
       "addedWidgets": {},
       "arguments": {},
       "data": "<div class=\"ansiout\">+---------+-------------------+\n|join_year|number_users_joined|\n+---------+-------------------+\n|     2015|                 16|\n|     2016|                 12|\n|     2017|                  3|\n+---------+-------------------+\n\n31\n</div>",
       "datasetInfos": [],
       "metadata": {},
       "removedWidgets": [],
       "type": "html"
      }
     },
     "output_type": "display_data"
    }
   ],
   "source": [
    "# Join df_pin and df_user DataFrames on \"ind\" column to get the required data in df_pin_user.\n",
    "df_pin_user = df_pin.join(df_user, on=\"ind\")\n",
    "\n",
    "# Add a new column \"join_year\" to df_pin_user that contains only the year from the \"date_joined\" column.\n",
    "df_pin_user_year = df_pin_user.withColumn(\"join_year\", year(\"date_joined\"))\n",
    "\n",
    "# Select distinct columns \"user_name\" and \"join_year\" from df_pin_user_year DataFrame.\n",
    "# Group the data by \"join_year\" and calculate the count of join_years using count() function.\n",
    "# Rename the aggregated column to \"number_users_joined\".\n",
    "# Display the result DataFrame.\n",
    "df_pin_user_year.select(\"user_name\", \"join_year\") \\\n",
    "    .distinct() \\\n",
    "    .groupBy(\"join_year\") \\\n",
    "    .agg(count(col(\"join_year\")).alias(\"number_users_joined\")) \\\n",
    "    .show()\n",
    "    \n",
    "# Print the total number of distinct user_names from df_pin_user_year DataFrame.\n",
    "print(df_pin_user_year.select(\"user_name\").distinct().count())"
   ]
  },
  {
   "cell_type": "markdown",
   "metadata": {
    "application/vnd.databricks.v1+cell": {
     "cellMetadata": {
      "byteLimit": 2048000,
      "rowLimit": 10000
     },
     "inputWidgets": {},
     "nuid": "9c8811c4-5b9d-45e0-8472-61a5e03c93c4",
     "showTitle": false,
     "title": ""
    }
   },
   "source": [
    "### Find the median follower count of users based on their joining year"
   ]
  },
  {
   "cell_type": "code",
   "execution_count": null,
   "metadata": {
    "application/vnd.databricks.v1+cell": {
     "cellMetadata": {
      "byteLimit": 2048000,
      "rowLimit": 10000
     },
     "inputWidgets": {},
     "nuid": "9659039a-8303-4e90-84e4-ced4d3f553b1",
     "showTitle": false,
     "title": ""
    }
   },
   "outputs": [
    {
     "data": {
      "text/html": [
       "<style scoped>\n",
       "  .ansiout {\n",
       "    display: block;\n",
       "    unicode-bidi: embed;\n",
       "    white-space: pre-wrap;\n",
       "    word-wrap: break-word;\n",
       "    word-break: break-all;\n",
       "    font-family: \"Menlo\", \"Monaco\", \"Consolas\", \"Ubuntu Mono\", \"Source Code Pro\", monospace;\n",
       "    font-size: 13px;\n",
       "    color: #555;\n",
       "    margin-left: 4px;\n",
       "    line-height: 19px;\n",
       "  }\n",
       "</style>\n",
       "<div class=\"ansiout\">+---------+---------------------+\n",
       "join_year|median_follower_count|\n",
       "+---------+---------------------+\n",
       "     2015|                92000|\n",
       "     2016|                21000|\n",
       "     2017|                 6000|\n",
       "+---------+---------------------+\n",
       "\n",
       "</div>"
      ]
     },
     "metadata": {
      "application/vnd.databricks.v1+output": {
       "addedWidgets": {},
       "arguments": {},
       "data": "<div class=\"ansiout\">+---------+---------------------+\n|join_year|median_follower_count|\n+---------+---------------------+\n|     2015|                92000|\n|     2016|                21000|\n|     2017|                 6000|\n+---------+---------------------+\n\n</div>",
       "datasetInfos": [],
       "metadata": {},
       "removedWidgets": [],
       "type": "html"
      }
     },
     "output_type": "display_data"
    }
   ],
   "source": [
    "# Join df_pin and df_user DataFrames on \"ind\" column to get the required data in df_pin_user.\n",
    "df_pin_user = df_pin.join(df_user, on=\"ind\")\n",
    "\n",
    "# Add a new column \"join_year\" to df_pin_user that contains only the year from the \"date_joined\" column.\n",
    "df_pin_user_year = df_pin_user.withColumn(\"join_year\", year(\"date_joined\"))\n",
    "\n",
    "# Add a new column \"age_group\" to df_pin_user_year based on the age range of each user.\n",
    "df_pin_user_year_age = df_pin_user_year.withColumn(\"age_group\", when((col(\"age\") >= 18) & (col(\"age\") <= 24), \"18-24\")\n",
    "                                   .when((col(\"age\") >= 25) & (col(\"age\") <= 35), \"25-35\")\n",
    "                                   .when((col(\"age\") >= 36) & (col(\"age\") <= 50), \"36-50\")\n",
    "                                   .when((col(\"age\") > 50), \"50+\"))\n",
    "\n",
    "# Select the columns \"user_name, age_group\", \"join_year\" and \"follower_count\" from df_pin_user_year_age DataFrame.\n",
    "# Filter the data for join_years between 2015 and 2020.\n",
    "# Group the data by \"join_year\" and calculate the approximate median follower count using percentile_approx() function.\n",
    "# Rename the aggregated column to \"median_follower_count\".\n",
    "# Order the result DataFrame by \"join_year\" and display the result.\n",
    "df_pin_user_year_age.select(\"user_name\", \"age_group\", \"join_year\", \"follower_count\") \\\n",
    "    .distinct() \\\n",
    "    .filter((col(\"join_year\") >= 2015) & (col(\"join_year\") <= 2020)) \\\n",
    "    .groupBy(\"join_year\") \\\n",
    "    .agg(percentile_approx(col(\"follower_count\"), 0.5).alias(\"median_follower_count\")) \\\n",
    "    .orderBy(\"join_year\") \\\n",
    "    .show()"
   ]
  },
  {
   "cell_type": "markdown",
   "metadata": {
    "application/vnd.databricks.v1+cell": {
     "cellMetadata": {
      "byteLimit": 2048000,
      "rowLimit": 10000
     },
     "inputWidgets": {},
     "nuid": "91e2420d-dfff-4874-9c85-e191ddf4fdc7",
     "showTitle": false,
     "title": ""
    }
   },
   "source": [
    "### Find the median follower count of users based on their joining year and age group"
   ]
  },
  {
   "cell_type": "code",
   "execution_count": null,
   "metadata": {
    "application/vnd.databricks.v1+cell": {
     "cellMetadata": {
      "byteLimit": 2048000,
      "rowLimit": 10000
     },
     "inputWidgets": {},
     "nuid": "d8a86bad-6076-4b91-9fcd-b5d5a792eff5",
     "showTitle": false,
     "title": ""
    }
   },
   "outputs": [
    {
     "data": {
      "text/html": [
       "<style scoped>\n",
       "  .ansiout {\n",
       "    display: block;\n",
       "    unicode-bidi: embed;\n",
       "    white-space: pre-wrap;\n",
       "    word-wrap: break-word;\n",
       "    word-break: break-all;\n",
       "    font-family: \"Menlo\", \"Monaco\", \"Consolas\", \"Ubuntu Mono\", \"Source Code Pro\", monospace;\n",
       "    font-size: 13px;\n",
       "    color: #555;\n",
       "    margin-left: 4px;\n",
       "    line-height: 19px;\n",
       "  }\n",
       "</style>\n",
       "<div class=\"ansiout\">+---------+---------+---------------------+\n",
       "age_group|join_year|median_follower_count|\n",
       "+---------+---------+---------------------+\n",
       "    18-24|     2015|               211000|\n",
       "    18-24|     2016|                21000|\n",
       "    18-24|     2017|                  940|\n",
       "    25-35|     2015|                51000|\n",
       "    25-35|     2016|                43000|\n",
       "    25-35|     2017|                 8000|\n",
       "    36-50|     2015|                    0|\n",
       "    36-50|     2017|                 6000|\n",
       "      50+|     2016|                    0|\n",
       "+---------+---------+---------------------+\n",
       "\n",
       "</div>"
      ]
     },
     "metadata": {
      "application/vnd.databricks.v1+output": {
       "addedWidgets": {},
       "arguments": {},
       "data": "<div class=\"ansiout\">+---------+---------+---------------------+\n|age_group|join_year|median_follower_count|\n+---------+---------+---------------------+\n|    18-24|     2015|               211000|\n|    18-24|     2016|                21000|\n|    18-24|     2017|                  940|\n|    25-35|     2015|                51000|\n|    25-35|     2016|                43000|\n|    25-35|     2017|                 8000|\n|    36-50|     2015|                    0|\n|    36-50|     2017|                 6000|\n|      50+|     2016|                    0|\n+---------+---------+---------------------+\n\n</div>",
       "datasetInfos": [],
       "metadata": {},
       "removedWidgets": [],
       "type": "html"
      }
     },
     "output_type": "display_data"
    }
   ],
   "source": [
    "# Join df_pin and df_user DataFrames on \"ind\" column to get the required data in df_pin_user.\n",
    "df_pin_user = df_pin.join(df_user, on=\"ind\")\n",
    "\n",
    "# Add a new column \"join_year\" to df_pin_user that contains only the year from the \"date_joined\" column.\n",
    "df_pin_user_year = df_pin_user.withColumn(\"join_year\", year(\"date_joined\"))\n",
    "\n",
    "# Add a new column \"age_group\" to df_pin_user_year based on the age range of each user.\n",
    "df_pin_user_year_age = df_pin_user_year.withColumn(\"age_group\", when((col(\"age\") >= 18) & (col(\"age\") <= 24), \"18-24\")\n",
    "                                   .when((col(\"age\") >= 25) & (col(\"age\") <= 35), \"25-35\")\n",
    "                                   .when((col(\"age\") >= 36) & (col(\"age\") <= 50), \"36-50\")\n",
    "                                   .when((col(\"age\") > 50), \"50+\"))\n",
    "\n",
    "# Select the columns \"user_name\", \"age_group\", \"join_year\" and \"follower_count\" from df_pin_user_year_age DataFrame.\n",
    "# Filter the data for join_years between 2015 and 2020.\n",
    "# Group the data by \"age_group\" and \"join_year\" and calculate the approximate median follower count using percentile_approx() function.\n",
    "# Rename the aggregated column to \"median_follower_count\".\n",
    "# Order the result DataFrame by \"age_group\" and \"join_year\" and display the result.\n",
    "df_pin_user_year_age.select(\"user_name\", \"age_group\", \"join_year\", \"follower_count\") \\\n",
    "    .distinct() \\\n",
    "    .filter((col(\"join_year\") >= 2015) & (col(\"join_year\") <= 2020)) \\\n",
    "    .groupBy(\"age_group\", \"join_year\") \\\n",
    "    .agg(percentile_approx(col(\"follower_count\"), 0.5).alias(\"median_follower_count\")) \\\n",
    "    .orderBy(\"age_group\", \"join_year\") \\\n",
    "    .show()"
   ]
  }
 ],
 "metadata": {
  "application/vnd.databricks.v1+notebook": {
   "dashboards": [],
   "language": "python",
   "notebookMetadata": {
    "mostRecentlyExecutedCommandWithImplicitDF": {
     "commandId": 3819816579781414,
     "dataframes": [
      "_sqldf"
     ]
    },
    "pythonIndentUnit": 4
   },
   "notebookName": "batch_data_cleaning",
   "widgets": {}
  },
  "language_info": {
   "name": "python"
  }
 },
 "nbformat": 4,
 "nbformat_minor": 0
}
