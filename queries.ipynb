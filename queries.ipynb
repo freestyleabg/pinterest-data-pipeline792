{
 "cells": [
  {
   "cell_type": "code",
   "execution_count": 0,
   "metadata": {
    "application/vnd.databricks.v1+cell": {
     "cellMetadata": {
      "byteLimit": 2048000,
      "rowLimit": 10000
     },
     "inputWidgets": {},
     "nuid": "ed44eb06-5c8a-4598-9b43-c98e5e5092fa",
     "showTitle": false,
     "title": ""
    }
   },
   "outputs": [
    {
     "output_type": "display_data",
     "data": {
      "text/html": [
       "<style scoped>\n",
       "  .ansiout {\n",
       "    display: block;\n",
       "    unicode-bidi: embed;\n",
       "    white-space: pre-wrap;\n",
       "    word-wrap: break-word;\n",
       "    word-break: break-all;\n",
       "    font-family: \"Menlo\", \"Monaco\", \"Consolas\", \"Ubuntu Mono\", \"Source Code Pro\", monospace;\n",
       "    font-size: 13px;\n",
       "    color: #555;\n",
       "    margin-left: 4px;\n",
       "    line-height: 19px;\n",
       "  }\n",
       "</style>\n",
       "<div class=\"ansiout\"></div>"
      ]
     },
     "metadata": {
      "application/vnd.databricks.v1+output": {
       "addedWidgets": {},
       "arguments": {},
       "data": "<div class=\"ansiout\"></div>",
       "datasetInfos": [],
       "metadata": {},
       "removedWidgets": [],
       "type": "html"
      }
     },
     "output_type": "display_data"
    },
    {
     "output_type": "display_data",
     "data": {
      "text/html": [
       "<style scoped>\n",
       "  .ansiout {\n",
       "    display: block;\n",
       "    unicode-bidi: embed;\n",
       "    white-space: pre-wrap;\n",
       "    word-wrap: break-word;\n",
       "    word-break: break-all;\n",
       "    font-family: \"Menlo\", \"Monaco\", \"Consolas\", \"Ubuntu Mono\", \"Source Code Pro\", monospace;\n",
       "    font-size: 13px;\n",
       "    color: #555;\n",
       "    margin-left: 4px;\n",
       "    line-height: 19px;\n",
       "  }\n",
       "</style>\n",
       "<div class=\"ansiout\"></div>"
      ]
     },
     "metadata": {
      "application/vnd.databricks.v1+output": {
       "addedWidgets": {},
       "arguments": {},
       "data": "<div class=\"ansiout\"></div>",
       "datasetInfos": [],
       "metadata": {},
       "removedWidgets": [],
       "type": "html"
      }
     },
     "output_type": "display_data"
    },
    {
     "output_type": "display_data",
     "data": {
      "text/html": [
       "<style scoped>\n",
       "  .ansiout {\n",
       "    display: block;\n",
       "    unicode-bidi: embed;\n",
       "    white-space: pre-wrap;\n",
       "    word-wrap: break-word;\n",
       "    word-break: break-all;\n",
       "    font-family: \"Menlo\", \"Monaco\", \"Consolas\", \"Ubuntu Mono\", \"Source Code Pro\", monospace;\n",
       "    font-size: 13px;\n",
       "    color: #555;\n",
       "    margin-left: 4px;\n",
       "    line-height: 19px;\n",
       "  }\n",
       "</style>\n",
       "<div class=\"ansiout\">/mnt/user-0a5040edb649-bucket already mounted. You can unmount using dbutils.fs.unmount(&#39;/mnt/user-0a5040edb649-bucket&#39;) if needed.\n",
       "</div>"
      ]
     },
     "metadata": {
      "application/vnd.databricks.v1+output": {
       "addedWidgets": {},
       "arguments": {},
       "data": "<div class=\"ansiout\">/mnt/user-0a5040edb649-bucket already mounted. You can unmount using dbutils.fs.unmount(&#39;/mnt/user-0a5040edb649-bucket&#39;) if needed.\n</div>",
       "datasetInfos": [],
       "metadata": {},
       "removedWidgets": [],
       "type": "html"
      }
     },
     "output_type": "display_data"
    },
    {
     "output_type": "display_data",
     "data": {
      "text/html": [
       "<style scoped>\n",
       "  .ansiout {\n",
       "    display: block;\n",
       "    unicode-bidi: embed;\n",
       "    white-space: pre-wrap;\n",
       "    word-wrap: break-word;\n",
       "    word-break: break-all;\n",
       "    font-family: \"Menlo\", \"Monaco\", \"Consolas\", \"Ubuntu Mono\", \"Source Code Pro\", monospace;\n",
       "    font-size: 13px;\n",
       "    color: #555;\n",
       "    margin-left: 4px;\n",
       "    line-height: 19px;\n",
       "  }\n",
       "</style>\n",
       "<div class=\"ansiout\">Out[6]: [FileInfo(path=&#39;dbfs:/mnt/user-0a5040edb649-bucket/topics/0a5040edb649.geo/&#39;, name=&#39;0a5040edb649.geo/&#39;, size=0, modificationTime=1714532714616),\n",
       " FileInfo(path=&#39;dbfs:/mnt/user-0a5040edb649-bucket/topics/0a5040edb649.pin/&#39;, name=&#39;0a5040edb649.pin/&#39;, size=0, modificationTime=1714532714616),\n",
       " FileInfo(path=&#39;dbfs:/mnt/user-0a5040edb649-bucket/topics/0a5040edb649.user/&#39;, name=&#39;0a5040edb649.user/&#39;, size=0, modificationTime=1714532714616)]</div>"
      ]
     },
     "metadata": {
      "application/vnd.databricks.v1+output": {
       "addedWidgets": {},
       "arguments": {},
       "data": "<div class=\"ansiout\">Out[6]: [FileInfo(path=&#39;dbfs:/mnt/user-0a5040edb649-bucket/topics/0a5040edb649.geo/&#39;, name=&#39;0a5040edb649.geo/&#39;, size=0, modificationTime=1714532714616),\n FileInfo(path=&#39;dbfs:/mnt/user-0a5040edb649-bucket/topics/0a5040edb649.pin/&#39;, name=&#39;0a5040edb649.pin/&#39;, size=0, modificationTime=1714532714616),\n FileInfo(path=&#39;dbfs:/mnt/user-0a5040edb649-bucket/topics/0a5040edb649.user/&#39;, name=&#39;0a5040edb649.user/&#39;, size=0, modificationTime=1714532714616)]</div>",
       "datasetInfos": [],
       "metadata": {},
       "removedWidgets": [],
       "type": "html"
      }
     },
     "output_type": "display_data"
    },
    {
     "output_type": "display_data",
     "data": {
      "text/html": [
       "<style scoped>\n",
       "  .table-result-container {\n",
       "    max-height: 300px;\n",
       "    overflow: auto;\n",
       "  }\n",
       "  table, th, td {\n",
       "    border: 1px solid black;\n",
       "    border-collapse: collapse;\n",
       "  }\n",
       "  th, td {\n",
       "    padding: 5px;\n",
       "  }\n",
       "  th {\n",
       "    text-align: left;\n",
       "  }\n",
       "</style><div class='table-result-container'><table class='table-result'><thead style='background-color: white'><tr><th>key</th><th>value</th></tr></thead><tbody><tr><td>spark.databricks.delta.formatCheck.enabled</td><td>false</td></tr></tbody></table></div>"
      ]
     },
     "metadata": {
      "application/vnd.databricks.v1+output": {
       "addedWidgets": {},
       "aggData": [],
       "aggError": "",
       "aggOverflow": false,
       "aggSchema": [],
       "aggSeriesLimitReached": false,
       "aggType": "",
       "arguments": {},
       "columnCustomDisplayInfos": {},
       "data": [
        [
         "spark.databricks.delta.formatCheck.enabled",
         "false"
        ]
       ],
       "datasetInfos": [],
       "dbfsResultPath": null,
       "isJsonSchema": true,
       "metadata": {},
       "overflow": false,
       "plotOptions": {
        "customPlotOptions": {},
        "displayType": "table",
        "pivotAggregation": null,
        "pivotColumns": null,
        "xColumns": null,
        "yColumns": null
       },
       "removedWidgets": [],
       "schema": [
        {
         "metadata": "{}",
         "name": "key",
         "type": "\"string\""
        },
        {
         "metadata": "{}",
         "name": "value",
         "type": "\"string\""
        }
       ],
       "type": "table"
      }
     },
     "output_type": "display_data"
    },
    {
     "output_type": "display_data",
     "data": {
      "text/html": [
       "<style scoped>\n",
       "  .ansiout {\n",
       "    display: block;\n",
       "    unicode-bidi: embed;\n",
       "    white-space: pre-wrap;\n",
       "    word-wrap: break-word;\n",
       "    word-break: break-all;\n",
       "    font-family: \"Menlo\", \"Monaco\", \"Consolas\", \"Ubuntu Mono\", \"Source Code Pro\", monospace;\n",
       "    font-size: 13px;\n",
       "    color: #555;\n",
       "    margin-left: 4px;\n",
       "    line-height: 19px;\n",
       "  }\n",
       "</style>\n",
       "<div class=\"ansiout\"></div>"
      ]
     },
     "metadata": {
      "application/vnd.databricks.v1+output": {
       "addedWidgets": {},
       "arguments": {},
       "data": "<div class=\"ansiout\"></div>",
       "datasetInfos": [],
       "metadata": {},
       "removedWidgets": [],
       "type": "html"
      }
     },
     "output_type": "display_data"
    }
   ],
   "source": [
    "%run \"/Users/freestyleabg@gmail.com/batch_processing_pipeline\""
   ]
  },
  {
   "cell_type": "markdown",
   "metadata": {
    "application/vnd.databricks.v1+cell": {
     "cellMetadata": {
      "byteLimit": 2048000,
      "rowLimit": 10000
     },
     "inputWidgets": {},
     "nuid": "79c666a3-6e96-4344-8a41-9670b4941edd",
     "showTitle": false,
     "title": ""
    }
   },
   "source": [
    "### Find the most popular category people post to based on their country."
   ]
  },
  {
   "cell_type": "code",
   "execution_count": 0,
   "metadata": {
    "application/vnd.databricks.v1+cell": {
     "cellMetadata": {
      "byteLimit": 2048000,
      "rowLimit": 10000
     },
     "inputWidgets": {},
     "nuid": "cae68ade-cc95-40b6-962b-2c17ba4645b1",
     "showTitle": false,
     "title": ""
    }
   },
   "outputs": [
    {
     "output_type": "display_data",
     "data": {
      "text/html": [
       "<style scoped>\n",
       "  .ansiout {\n",
       "    display: block;\n",
       "    unicode-bidi: embed;\n",
       "    white-space: pre-wrap;\n",
       "    word-wrap: break-word;\n",
       "    word-break: break-all;\n",
       "    font-family: \"Menlo\", \"Monaco\", \"Consolas\", \"Ubuntu Mono\", \"Source Code Pro\", monospace;\n",
       "    font-size: 13px;\n",
       "    color: #555;\n",
       "    margin-left: 4px;\n",
       "    line-height: 19px;\n",
       "  }\n",
       "</style>\n",
       "<div class=\"ansiout\">+--------------------+--------------+--------------+\n",
       "             country|      category|category_count|\n",
       "+--------------------+--------------+--------------+\n",
       "             Albania|  mens-fashion|           180|\n",
       "              Angola|diy-and-crafts|             6|\n",
       "            Anguilla|    home-decor|             8|\n",
       "Antarctica (the t...|     christmas|             2|\n",
       " Antigua and Barbuda|        quotes|             2|\n",
       "             Armenia|diy-and-crafts|           170|\n",
       "               Aruba|       tattoos|            35|\n",
       "           Australia|  mens-fashion|             2|\n",
       "             Austria|        travel|             2|\n",
       "          Azerbaijan|event-planning|             8|\n",
       "          Bangladesh|           art|             2|\n",
       "            Barbados|        travel|             6|\n",
       "            Botswana|       tattoos|             2|\n",
       "            Bulgaria|       finance|            15|\n",
       "            Cambodia|diy-and-crafts|             8|\n",
       "Central African R...|     christmas|             2|\n",
       "Cocos (Keeling) I...|      vehicles|            15|\n",
       "            Colombia|       finance|            99|\n",
       "       Cote d&#39;Ivoire|     education|            15|\n",
       "  Dominican Republic|        travel|             2|\n",
       "+--------------------+--------------+--------------+\n",
       "only showing top 20 rows\n",
       "\n",
       "</div>"
      ]
     },
     "metadata": {
      "application/vnd.databricks.v1+output": {
       "addedWidgets": {},
       "arguments": {},
       "data": "<div class=\"ansiout\">+--------------------+--------------+--------------+\n|             country|      category|category_count|\n+--------------------+--------------+--------------+\n|             Albania|  mens-fashion|           180|\n|              Angola|diy-and-crafts|             6|\n|            Anguilla|    home-decor|             8|\n|Antarctica (the t...|     christmas|             2|\n| Antigua and Barbuda|        quotes|             2|\n|             Armenia|diy-and-crafts|           170|\n|               Aruba|       tattoos|            35|\n|           Australia|  mens-fashion|             2|\n|             Austria|        travel|             2|\n|          Azerbaijan|event-planning|             8|\n|          Bangladesh|           art|             2|\n|            Barbados|        travel|             6|\n|            Botswana|       tattoos|             2|\n|            Bulgaria|       finance|            15|\n|            Cambodia|diy-and-crafts|             8|\n|Central African R...|     christmas|             2|\n|Cocos (Keeling) I...|      vehicles|            15|\n|            Colombia|       finance|            99|\n|       Cote d&#39;Ivoire|     education|            15|\n|  Dominican Republic|        travel|             2|\n+--------------------+--------------+--------------+\nonly showing top 20 rows\n\n</div>",
       "datasetInfos": [],
       "metadata": {},
       "removedWidgets": [],
       "type": "html"
      }
     },
     "output_type": "display_data"
    }
   ],
   "source": [
    "from pyspark.sql.window import Window\n",
    "# Join df_pin and df_geo dataframes on index coumn\n",
    "df_pin_geo = df_pin.join(df_geo, df_pin.ind == df_geo.ind)\n",
    "\n",
    "# Define a window function to partition by country and order by category_count in descending order.\n",
    "windowCategoryPerCountry = Window.partitionBy(\"country\").orderBy(col(\"category_count\").desc())\n",
    "\n",
    "# Group the data by \"country\" and \"category\", and count the number of posts in each category.\n",
    "# Add a column \"category_count\" to store the count.\n",
    "# Add a rank column using row_number() function over the defined window function.\n",
    "# Filter the rows where rank is 1 to get the category with the highest post count for each country.\n",
    "# Drop the rank column and display the result.\n",
    "df_pin_geo.groupBy(\"country\", \"category\") \\\n",
    "    .agg(count(\"category\").alias(\"category_count\")) \\\n",
    "    .withColumn(\"rank\", row_number().over(windowCategoryPerCountry)) \\\n",
    "    .filter(col(\"rank\") == 1) \\\n",
    "    .drop(\"rank\") \\\n",
    "    .show()"
   ]
  },
  {
   "cell_type": "markdown",
   "metadata": {
    "application/vnd.databricks.v1+cell": {
     "cellMetadata": {
      "byteLimit": 2048000,
      "rowLimit": 10000
     },
     "inputWidgets": {},
     "nuid": "535c9482-9888-4fca-95ee-bb09ae0a6d88",
     "showTitle": false,
     "title": ""
    }
   },
   "source": [
    "### Find how many posts each category had between 2018 and 2022"
   ]
  },
  {
   "cell_type": "code",
   "execution_count": 0,
   "metadata": {
    "application/vnd.databricks.v1+cell": {
     "cellMetadata": {
      "byteLimit": 2048000,
      "rowLimit": 10000
     },
     "inputWidgets": {},
     "nuid": "533c5f19-6e58-43dd-a476-5c6dfc6c7c92",
     "showTitle": false,
     "title": ""
    }
   },
   "outputs": [
    {
     "output_type": "display_data",
     "data": {
      "text/html": [
       "<style scoped>\n",
       "  .ansiout {\n",
       "    display: block;\n",
       "    unicode-bidi: embed;\n",
       "    white-space: pre-wrap;\n",
       "    word-wrap: break-word;\n",
       "    word-break: break-all;\n",
       "    font-family: \"Menlo\", \"Monaco\", \"Consolas\", \"Ubuntu Mono\", \"Source Code Pro\", monospace;\n",
       "    font-size: 13px;\n",
       "    color: #555;\n",
       "    margin-left: 4px;\n",
       "    line-height: 19px;\n",
       "  }\n",
       "</style>\n",
       "<div class=\"ansiout\">+---------+------------+--------------+\n",
       "post_year|    category|category_count|\n",
       "+---------+------------+--------------+\n",
       "     2018|      beauty|            24|\n",
       "     2019|      quotes|            48|\n",
       "     2020|mens-fashion|           180|\n",
       "     2021|     finance|           114|\n",
       "     2022|    vehicles|            15|\n",
       "+---------+------------+--------------+\n",
       "\n",
       "</div>"
      ]
     },
     "metadata": {
      "application/vnd.databricks.v1+output": {
       "addedWidgets": {},
       "arguments": {},
       "data": "<div class=\"ansiout\">+---------+------------+--------------+\n|post_year|    category|category_count|\n+---------+------------+--------------+\n|     2018|      beauty|            24|\n|     2019|      quotes|            48|\n|     2020|mens-fashion|           180|\n|     2021|     finance|           114|\n|     2022|    vehicles|            15|\n+---------+------------+--------------+\n\n</div>",
       "datasetInfos": [],
       "metadata": {},
       "removedWidgets": [],
       "type": "html"
      }
     },
     "output_type": "display_data"
    }
   ],
   "source": [
    "# Define a window function to partition by post_year and order by category_count in descending order.\n",
    "windowCategoryPerYear = Window.partitionBy(\"post_year\").orderBy(col(\"category_count\").desc())\n",
    "\n",
    "# Add a new column \"post_year\" to df_pin_geo by extracting the year from the \"timestamp\" column.\n",
    "# Group the data by \"post_year\" and \"category\", and count the number of posts in each category.\n",
    "# Add a rank column using row_number() function over the defined window function.\n",
    "# Filter the rows where rank is 1 to get the category with the highest post count in each year.\n",
    "# Drop the rank column and display the result.\n",
    "df_pin_geo.withColumn(\"post_year\", year(\"timestamp\")) \\\n",
    "    .groupBy(\"post_year\", \"category\") \\\n",
    "    .agg(count(\"category\").alias(\"category_count\")) \\\n",
    "    .withColumn(\"rank\", row_number().over(windowCategoryPerYear)) \\\n",
    "    .filter(col(\"rank\") == 1) \\\n",
    "    .drop(\"rank\") \\\n",
    "    .show()"
   ]
  },
  {
   "cell_type": "markdown",
   "metadata": {
    "application/vnd.databricks.v1+cell": {
     "cellMetadata": {
      "byteLimit": 2048000,
      "rowLimit": 10000
     },
     "inputWidgets": {},
     "nuid": "5421ae90-1989-48d0-a8c2-0229cfe03352",
     "showTitle": false,
     "title": ""
    }
   },
   "source": [
    "### For each country, find the user with the most followers.\n",
    "### Then, find the country with the user with the most followers."
   ]
  },
  {
   "cell_type": "code",
   "execution_count": 0,
   "metadata": {
    "application/vnd.databricks.v1+cell": {
     "cellMetadata": {
      "byteLimit": 2048000,
      "rowLimit": 10000
     },
     "inputWidgets": {},
     "nuid": "12b119d3-abe8-4210-a3d8-b492fd68cfb3",
     "showTitle": false,
     "title": ""
    }
   },
   "outputs": [
    {
     "output_type": "display_data",
     "data": {
      "text/html": [
       "<style scoped>\n",
       "  .ansiout {\n",
       "    display: block;\n",
       "    unicode-bidi: embed;\n",
       "    white-space: pre-wrap;\n",
       "    word-wrap: break-word;\n",
       "    word-break: break-all;\n",
       "    font-family: \"Menlo\", \"Monaco\", \"Consolas\", \"Ubuntu Mono\", \"Source Code Pro\", monospace;\n",
       "    font-size: 13px;\n",
       "    color: #555;\n",
       "    margin-left: 4px;\n",
       "    line-height: 19px;\n",
       "  }\n",
       "</style>\n",
       "<div class=\"ansiout\">+----------+---------------+--------------+\n",
       "   country|    poster_name|follower_count|\n",
       "+----------+---------------+--------------+\n",
       "Azerbaijan|Style Me Pretty|       6000000|\n",
       "+----------+---------------+--------------+\n",
       "\n",
       "</div>"
      ]
     },
     "metadata": {
      "application/vnd.databricks.v1+output": {
       "addedWidgets": {},
       "arguments": {},
       "data": "<div class=\"ansiout\">+----------+---------------+--------------+\n|   country|    poster_name|follower_count|\n+----------+---------------+--------------+\n|Azerbaijan|Style Me Pretty|       6000000|\n+----------+---------------+--------------+\n\n</div>",
       "datasetInfos": [],
       "metadata": {},
       "removedWidgets": [],
       "type": "html"
      }
     },
     "output_type": "display_data"
    }
   ],
   "source": [
    "\n",
    "# Define a window function to partition by country and order by follower_count in descending order.\n",
    "windowFollowersPerCountry = Window.partitionBy(\"country\").orderBy(col(\"follower_count\").desc())\n",
    "\n",
    "# Select the columns \"country\", \"poster_name\", \"follower_count\" from df_pin_geo.\n",
    "# Add a rank column using row_number() function over the defined window function.\n",
    "# Filter the rows where rank is 1 to get the user with the most followers for each country.\n",
    "# Drop the rank column and rows with null values.\n",
    "most_followers_per_country = df_pin_geo \\\n",
    "    .select(\"country\", \"poster_name\", \"follower_count\") \\\n",
    "    .withColumn(\"rank\", row_number().over(windowFollowersPerCountry)) \\\n",
    "    .filter(col(\"rank\") == 1) \\\n",
    "    .drop(\"rank\") \\\n",
    "    .dropna()\n",
    "\n",
    "# Order the most_followers_per_country DataFrame by follower_count in descending order\n",
    "# and select the row with the highest follower_count using limit(1).\n",
    "most_popular_user = most_followers_per_country \\\n",
    "    .orderBy(col(\"follower_count\").desc()) \\\n",
    "    .limit(1)\n",
    "\n",
    "# Display the most_popular_user DataFrame.\n",
    "most_popular_user.show()"
   ]
  },
  {
   "cell_type": "markdown",
   "metadata": {
    "application/vnd.databricks.v1+cell": {
     "cellMetadata": {
      "byteLimit": 2048000,
      "rowLimit": 10000
     },
     "inputWidgets": {},
     "nuid": "d0deeef5-80a4-4285-8ce3-aad9944f445e",
     "showTitle": false,
     "title": ""
    }
   },
   "source": [
    "### Find the most popular category people post to per age group"
   ]
  },
  {
   "cell_type": "code",
   "execution_count": 0,
   "metadata": {
    "application/vnd.databricks.v1+cell": {
     "cellMetadata": {
      "byteLimit": 2048000,
      "rowLimit": 10000
     },
     "inputWidgets": {},
     "nuid": "2684b2bc-95aa-424f-9130-f925cdcdd6d9",
     "showTitle": false,
     "title": ""
    }
   },
   "outputs": [
    {
     "output_type": "display_data",
     "data": {
      "text/html": [
       "<style scoped>\n",
       "  .ansiout {\n",
       "    display: block;\n",
       "    unicode-bidi: embed;\n",
       "    white-space: pre-wrap;\n",
       "    word-wrap: break-word;\n",
       "    word-break: break-all;\n",
       "    font-family: \"Menlo\", \"Monaco\", \"Consolas\", \"Ubuntu Mono\", \"Source Code Pro\", monospace;\n",
       "    font-size: 13px;\n",
       "    color: #555;\n",
       "    margin-left: 4px;\n",
       "    line-height: 19px;\n",
       "  }\n",
       "</style>\n",
       "<div class=\"ansiout\">+---------+--------------+--------------+\n",
       "age_group|      category|category_count|\n",
       "+---------+--------------+--------------+\n",
       "    18-24|  mens-fashion|          2178|\n",
       "    25-35|diy-and-crafts|          2032|\n",
       "    36-50|       finance|           891|\n",
       "      50+|        beauty|             2|\n",
       "+---------+--------------+--------------+\n",
       "\n",
       "</div>"
      ]
     },
     "metadata": {
      "application/vnd.databricks.v1+output": {
       "addedWidgets": {},
       "arguments": {},
       "data": "<div class=\"ansiout\">+---------+--------------+--------------+\n|age_group|      category|category_count|\n+---------+--------------+--------------+\n|    18-24|  mens-fashion|          2178|\n|    25-35|diy-and-crafts|          2032|\n|    36-50|       finance|           891|\n|      50+|        beauty|             2|\n+---------+--------------+--------------+\n\n</div>",
       "datasetInfos": [],
       "metadata": {},
       "removedWidgets": [],
       "type": "html"
      }
     },
     "output_type": "display_data"
    }
   ],
   "source": [
    "# Define a window function to partition by age_group and order by category_count in descending order.\n",
    "windowCategoryPerAge = Window.partitionBy(\"age_group\").orderBy(col(\"category_count\").desc())\n",
    "\n",
    "# Join df_pin, df_geo, and df_user on the \"ind\" column to get the required data in df_pin_geo_user.\n",
    "df_pin_geo_user = df_pin.join(df_geo, on=\"ind\").join(df_user, on=\"ind\")\n",
    "\n",
    "# Add a new column \"age_group\" to df_pin_geo_user based on the age range of each user.\n",
    "# Group the data by \"age_group\" and \"category\", and count the number of posts in each category.\n",
    "# Add a rank column using row_number() function over the defined window function.\n",
    "# Filter the rows where rank is 1 to get the category with the highest post count in each age group.\n",
    "# Drop the rank column and display the result.\n",
    "df_pin_geo_user.withColumn(\"age_group\", when((col(\"age\") >= 18) & (col(\"age\") <= 24), \"18-24\")\n",
    "                                   .when((col(\"age\") >= 25) & (col(\"age\") <= 35), \"25-35\")\n",
    "                                   .when((col(\"age\") >= 36) & (col(\"age\") <= 50), \"36-50\")\n",
    "                                   .when((col(\"age\") > 50), \"50+\")) \\\n",
    "    .groupBy(\"age_group\", \"category\") \\\n",
    "    .agg(count(\"category\").alias(\"category_count\")) \\\n",
    "    .withColumn(\"rank\", row_number().over(windowCategoryPerAge)) \\\n",
    "    .filter(col(\"rank\") == 1) \\\n",
    "    .drop(\"rank\") \\\n",
    "    .show()"
   ]
  },
  {
   "cell_type": "markdown",
   "metadata": {
    "application/vnd.databricks.v1+cell": {
     "cellMetadata": {
      "byteLimit": 2048000,
      "rowLimit": 10000
     },
     "inputWidgets": {},
     "nuid": "ba8cc618-6a07-430d-9f31-ac9f8bd870b6",
     "showTitle": false,
     "title": ""
    }
   },
   "source": [
    "### Find the most popular category for different age groups"
   ]
  },
  {
   "cell_type": "code",
   "execution_count": 0,
   "metadata": {
    "application/vnd.databricks.v1+cell": {
     "cellMetadata": {
      "byteLimit": 2048000,
      "rowLimit": 10000
     },
     "inputWidgets": {},
     "nuid": "76f9c1b2-9a0f-4f43-9890-36bf40cdf473",
     "showTitle": false,
     "title": ""
    }
   },
   "outputs": [
    {
     "output_type": "display_data",
     "data": {
      "text/html": [
       "<style scoped>\n",
       "  .ansiout {\n",
       "    display: block;\n",
       "    unicode-bidi: embed;\n",
       "    white-space: pre-wrap;\n",
       "    word-wrap: break-word;\n",
       "    word-break: break-all;\n",
       "    font-family: \"Menlo\", \"Monaco\", \"Consolas\", \"Ubuntu Mono\", \"Source Code Pro\", monospace;\n",
       "    font-size: 13px;\n",
       "    color: #555;\n",
       "    margin-left: 4px;\n",
       "    line-height: 19px;\n",
       "  }\n",
       "</style>\n",
       "<div class=\"ansiout\">+---------+---------------------+\n",
       "age_group|median_follower_count|\n",
       "+---------+---------------------+\n",
       "    18-24|               211000|\n",
       "    25-35|                43000|\n",
       "    36-50|                 6000|\n",
       "      50+|                    0|\n",
       "+---------+---------------------+\n",
       "\n",
       "</div>"
      ]
     },
     "metadata": {
      "application/vnd.databricks.v1+output": {
       "addedWidgets": {},
       "arguments": {},
       "data": "<div class=\"ansiout\">+---------+---------------------+\n|age_group|median_follower_count|\n+---------+---------------------+\n|    18-24|               211000|\n|    25-35|                43000|\n|    36-50|                 6000|\n|      50+|                    0|\n+---------+---------------------+\n\n</div>",
       "datasetInfos": [],
       "metadata": {},
       "removedWidgets": [],
       "type": "html"
      }
     },
     "output_type": "display_data"
    }
   ],
   "source": [
    "# Join df_pin and df_user DataFrames on the \"ind\" column to get the required data in df_pin_user.\n",
    "df_pin_user = df_pin.join(df_user, on=\"ind\")\n",
    "\n",
    "# Add a new column \"age_group\" to df_pin_user based on the age range of each user.\n",
    "df_pin_user_age = df_pin_user.withColumn(\"age_group\", when((col(\"age\") >= 18) & (col(\"age\") <= 24), \"18-24\")\n",
    "                                   .when((col(\"age\") >= 25) & (col(\"age\") <= 35), \"25-35\")\n",
    "                                   .when((col(\"age\") >= 36) & (col(\"age\") <= 50), \"36-50\")\n",
    "                                   .when((col(\"age\") > 50), \"50+\"))\n",
    "\n",
    "# Select the columns \"age_group\" and \"follower_count\" from df_pin_user_age DataFrame.\n",
    "# Group the data by \"age_group\" and calculate the approximate median follower count using percentile_approx() function.\n",
    "# Rename the aggregated column to \"median_follower_count\".\n",
    "# Order the result DataFrame by \"median_follower_count\" in descending order and display the result.\n",
    "df_pin_user_age.select(\"age_group\", \"follower_count\") \\\n",
    "    .distinct() \\\n",
    "    .groupBy(\"age_group\") \\\n",
    "    .agg(percentile_approx(col(\"follower_count\"), 0.5).alias(\"median_follower_count\")) \\\n",
    "    .orderBy(col(\"median_follower_count\").desc()) \\\n",
    "    .show()"
   ]
  },
  {
   "cell_type": "markdown",
   "metadata": {
    "application/vnd.databricks.v1+cell": {
     "cellMetadata": {
      "byteLimit": 2048000,
      "rowLimit": 10000
     },
     "inputWidgets": {},
     "nuid": "7c075d05-91c9-4d3c-a70a-078fe529848c",
     "showTitle": false,
     "title": ""
    }
   },
   "source": [
    "### Find the number of users who joined between 2015 and 2020."
   ]
  },
  {
   "cell_type": "code",
   "execution_count": 0,
   "metadata": {
    "application/vnd.databricks.v1+cell": {
     "cellMetadata": {
      "byteLimit": 2048000,
      "rowLimit": 10000
     },
     "inputWidgets": {},
     "nuid": "08aa5d80-5470-420e-b14f-3f237897dab1",
     "showTitle": false,
     "title": ""
    }
   },
   "outputs": [
    {
     "output_type": "display_data",
     "data": {
      "text/html": [
       "<style scoped>\n",
       "  .ansiout {\n",
       "    display: block;\n",
       "    unicode-bidi: embed;\n",
       "    white-space: pre-wrap;\n",
       "    word-wrap: break-word;\n",
       "    word-break: break-all;\n",
       "    font-family: \"Menlo\", \"Monaco\", \"Consolas\", \"Ubuntu Mono\", \"Source Code Pro\", monospace;\n",
       "    font-size: 13px;\n",
       "    color: #555;\n",
       "    margin-left: 4px;\n",
       "    line-height: 19px;\n",
       "  }\n",
       "</style>\n",
       "<div class=\"ansiout\">+---------+-------------------+\n",
       "join_year|number_users_joined|\n",
       "+---------+-------------------+\n",
       "     2015|                 16|\n",
       "     2016|                 12|\n",
       "     2017|                  3|\n",
       "+---------+-------------------+\n",
       "\n",
       "31\n",
       "</div>"
      ]
     },
     "metadata": {
      "application/vnd.databricks.v1+output": {
       "addedWidgets": {},
       "arguments": {},
       "data": "<div class=\"ansiout\">+---------+-------------------+\n|join_year|number_users_joined|\n+---------+-------------------+\n|     2015|                 16|\n|     2016|                 12|\n|     2017|                  3|\n+---------+-------------------+\n\n31\n</div>",
       "datasetInfos": [],
       "metadata": {},
       "removedWidgets": [],
       "type": "html"
      }
     },
     "output_type": "display_data"
    }
   ],
   "source": [
    "# Join df_pin and df_user DataFrames on \"ind\" column to get the required data in df_pin_user.\n",
    "df_pin_user = df_pin.join(df_user, on=\"ind\")\n",
    "\n",
    "# Add a new column \"join_year\" to df_pin_user that contains only the year from the \"date_joined\" column.\n",
    "df_pin_user_year = df_pin_user.withColumn(\"join_year\", year(\"date_joined\"))\n",
    "\n",
    "# Select distinct columns \"user_name\" and \"join_year\" from df_pin_user_year DataFrame.\n",
    "# Group the data by \"join_year\" and calculate the count of join_years using count() function.\n",
    "# Rename the aggregated column to \"number_users_joined\".\n",
    "# Display the result DataFrame.\n",
    "df_pin_user_year.select(\"user_name\", \"join_year\") \\\n",
    "    .distinct() \\\n",
    "    .groupBy(\"join_year\") \\\n",
    "    .agg(count(col(\"join_year\")).alias(\"number_users_joined\")) \\\n",
    "    .show()\n",
    "    \n",
    "# Print the total number of distinct user_names from df_pin_user_year DataFrame.\n",
    "print(df_pin_user_year.select(\"user_name\").distinct().count())"
   ]
  },
  {
   "cell_type": "markdown",
   "metadata": {
    "application/vnd.databricks.v1+cell": {
     "cellMetadata": {
      "byteLimit": 2048000,
      "rowLimit": 10000
     },
     "inputWidgets": {},
     "nuid": "27ae3300-1a5b-4959-995f-bf44f2f2854a",
     "showTitle": false,
     "title": ""
    }
   },
   "source": [
    "### Find the median follower count of users based on their joining year"
   ]
  },
  {
   "cell_type": "code",
   "execution_count": 0,
   "metadata": {
    "application/vnd.databricks.v1+cell": {
     "cellMetadata": {
      "byteLimit": 2048000,
      "rowLimit": 10000
     },
     "inputWidgets": {},
     "nuid": "189ddeff-9b2c-482d-bfa2-08d54e847b3a",
     "showTitle": false,
     "title": ""
    }
   },
   "outputs": [
    {
     "output_type": "display_data",
     "data": {
      "text/html": [
       "<style scoped>\n",
       "  .ansiout {\n",
       "    display: block;\n",
       "    unicode-bidi: embed;\n",
       "    white-space: pre-wrap;\n",
       "    word-wrap: break-word;\n",
       "    word-break: break-all;\n",
       "    font-family: \"Menlo\", \"Monaco\", \"Consolas\", \"Ubuntu Mono\", \"Source Code Pro\", monospace;\n",
       "    font-size: 13px;\n",
       "    color: #555;\n",
       "    margin-left: 4px;\n",
       "    line-height: 19px;\n",
       "  }\n",
       "</style>\n",
       "<div class=\"ansiout\">+---------+---------------------+\n",
       "join_year|median_follower_count|\n",
       "+---------+---------------------+\n",
       "     2015|                92000|\n",
       "     2016|                21000|\n",
       "     2017|                 6000|\n",
       "+---------+---------------------+\n",
       "\n",
       "</div>"
      ]
     },
     "metadata": {
      "application/vnd.databricks.v1+output": {
       "addedWidgets": {},
       "arguments": {},
       "data": "<div class=\"ansiout\">+---------+---------------------+\n|join_year|median_follower_count|\n+---------+---------------------+\n|     2015|                92000|\n|     2016|                21000|\n|     2017|                 6000|\n+---------+---------------------+\n\n</div>",
       "datasetInfos": [],
       "metadata": {},
       "removedWidgets": [],
       "type": "html"
      }
     },
     "output_type": "display_data"
    }
   ],
   "source": [
    "# Join df_pin and df_user DataFrames on \"ind\" column to get the required data in df_pin_user.\n",
    "df_pin_user = df_pin.join(df_user, on=\"ind\")\n",
    "\n",
    "# Add a new column \"join_year\" to df_pin_user that contains only the year from the \"date_joined\" column.\n",
    "df_pin_user_year = df_pin_user.withColumn(\"join_year\", year(\"date_joined\"))\n",
    "\n",
    "# Add a new column \"age_group\" to df_pin_user_year based on the age range of each user.\n",
    "df_pin_user_year_age = df_pin_user_year.withColumn(\"age_group\", when((col(\"age\") >= 18) & (col(\"age\") <= 24), \"18-24\")\n",
    "                                   .when((col(\"age\") >= 25) & (col(\"age\") <= 35), \"25-35\")\n",
    "                                   .when((col(\"age\") >= 36) & (col(\"age\") <= 50), \"36-50\")\n",
    "                                   .when((col(\"age\") > 50), \"50+\"))\n",
    "\n",
    "# Select the columns \"user_name, age_group\", \"join_year\" and \"follower_count\" from df_pin_user_year_age DataFrame.\n",
    "# Filter the data for join_years between 2015 and 2020.\n",
    "# Group the data by \"join_year\" and calculate the approximate median follower count using percentile_approx() function.\n",
    "# Rename the aggregated column to \"median_follower_count\".\n",
    "# Order the result DataFrame by \"join_year\" and display the result.\n",
    "df_pin_user_year_age.select(\"user_name\", \"age_group\", \"join_year\", \"follower_count\") \\\n",
    "    .distinct() \\\n",
    "    .filter((col(\"join_year\") >= 2015) & (col(\"join_year\") <= 2020)) \\\n",
    "    .groupBy(\"join_year\") \\\n",
    "    .agg(percentile_approx(col(\"follower_count\"), 0.5).alias(\"median_follower_count\")) \\\n",
    "    .orderBy(\"join_year\") \\\n",
    "    .show()"
   ]
  },
  {
   "cell_type": "markdown",
   "metadata": {
    "application/vnd.databricks.v1+cell": {
     "cellMetadata": {
      "byteLimit": 2048000,
      "rowLimit": 10000
     },
     "inputWidgets": {},
     "nuid": "8a26aac7-9a16-42de-b4ca-d59812898b7d",
     "showTitle": false,
     "title": ""
    }
   },
   "source": [
    "### Find the median follower count of users based on their joining year and age group"
   ]
  },
  {
   "cell_type": "code",
   "execution_count": 0,
   "metadata": {
    "application/vnd.databricks.v1+cell": {
     "cellMetadata": {
      "byteLimit": 2048000,
      "rowLimit": 10000
     },
     "inputWidgets": {},
     "nuid": "ac289398-63fc-4558-a1f0-6ee38cd8a1e5",
     "showTitle": false,
     "title": ""
    }
   },
   "outputs": [
    {
     "output_type": "display_data",
     "data": {
      "text/html": [
       "<style scoped>\n",
       "  .ansiout {\n",
       "    display: block;\n",
       "    unicode-bidi: embed;\n",
       "    white-space: pre-wrap;\n",
       "    word-wrap: break-word;\n",
       "    word-break: break-all;\n",
       "    font-family: \"Menlo\", \"Monaco\", \"Consolas\", \"Ubuntu Mono\", \"Source Code Pro\", monospace;\n",
       "    font-size: 13px;\n",
       "    color: #555;\n",
       "    margin-left: 4px;\n",
       "    line-height: 19px;\n",
       "  }\n",
       "</style>\n",
       "<div class=\"ansiout\">+---------+---------+---------------------+\n",
       "age_group|join_year|median_follower_count|\n",
       "+---------+---------+---------------------+\n",
       "    18-24|     2015|               211000|\n",
       "    18-24|     2016|                21000|\n",
       "    18-24|     2017|                  940|\n",
       "    25-35|     2015|                51000|\n",
       "    25-35|     2016|                43000|\n",
       "    25-35|     2017|                 8000|\n",
       "    36-50|     2015|                    0|\n",
       "    36-50|     2017|                 6000|\n",
       "      50+|     2016|                    0|\n",
       "+---------+---------+---------------------+\n",
       "\n",
       "</div>"
      ]
     },
     "metadata": {
      "application/vnd.databricks.v1+output": {
       "addedWidgets": {},
       "arguments": {},
       "data": "<div class=\"ansiout\">+---------+---------+---------------------+\n|age_group|join_year|median_follower_count|\n+---------+---------+---------------------+\n|    18-24|     2015|               211000|\n|    18-24|     2016|                21000|\n|    18-24|     2017|                  940|\n|    25-35|     2015|                51000|\n|    25-35|     2016|                43000|\n|    25-35|     2017|                 8000|\n|    36-50|     2015|                    0|\n|    36-50|     2017|                 6000|\n|      50+|     2016|                    0|\n+---------+---------+---------------------+\n\n</div>",
       "datasetInfos": [],
       "metadata": {},
       "removedWidgets": [],
       "type": "html"
      }
     },
     "output_type": "display_data"
    }
   ],
   "source": [
    "# Join df_pin and df_user DataFrames on \"ind\" column to get the required data in df_pin_user.\n",
    "df_pin_user = df_pin.join(df_user, on=\"ind\")\n",
    "\n",
    "# Add a new column \"join_year\" to df_pin_user that contains only the year from the \"date_joined\" column.\n",
    "df_pin_user_year = df_pin_user.withColumn(\"join_year\", year(\"date_joined\"))\n",
    "\n",
    "# Add a new column \"age_group\" to df_pin_user_year based on the age range of each user.\n",
    "df_pin_user_year_age = df_pin_user_year.withColumn(\"age_group\", when((col(\"age\") >= 18) & (col(\"age\") <= 24), \"18-24\")\n",
    "                                   .when((col(\"age\") >= 25) & (col(\"age\") <= 35), \"25-35\")\n",
    "                                   .when((col(\"age\") >= 36) & (col(\"age\") <= 50), \"36-50\")\n",
    "                                   .when((col(\"age\") > 50), \"50+\"))\n",
    "\n",
    "# Select the columns \"user_name\", \"age_group\", \"join_year\" and \"follower_count\" from df_pin_user_year_age DataFrame.\n",
    "# Filter the data for join_years between 2015 and 2020.\n",
    "# Group the data by \"age_group\" and \"join_year\" and calculate the approximate median follower count using percentile_approx() function.\n",
    "# Rename the aggregated column to \"median_follower_count\".\n",
    "# Order the result DataFrame by \"age_group\" and \"join_year\" and display the result.\n",
    "df_pin_user_year_age.select(\"user_name\", \"age_group\", \"join_year\", \"follower_count\") \\\n",
    "    .distinct() \\\n",
    "    .filter((col(\"join_year\") >= 2015) & (col(\"join_year\") <= 2020)) \\\n",
    "    .groupBy(\"age_group\", \"join_year\") \\\n",
    "    .agg(percentile_approx(col(\"follower_count\"), 0.5).alias(\"median_follower_count\")) \\\n",
    "    .orderBy(\"age_group\", \"join_year\") \\\n",
    "    .show()"
   ]
  }
 ],
 "metadata": {
  "application/vnd.databricks.v1+notebook": {
   "dashboards": [],
   "language": "python",
   "notebookMetadata": {
    "mostRecentlyExecutedCommandWithImplicitDF": {
     "commandId": 1115139652618777,
     "dataframes": [
      "_sqldf"
     ]
    },
    "pythonIndentUnit": 4
   },
   "notebookName": "queries",
   "widgets": {}
  },
  "language_info": {
   "name": "python"
  }
 },
 "nbformat": 4,
 "nbformat_minor": 0
}
